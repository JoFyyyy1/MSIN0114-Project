{
 "cells": [
  {
   "cell_type": "code",
   "execution_count": 1,
   "metadata": {
    "ExecuteTime": {
     "end_time": "2022-02-08T05:13:55.995247Z",
     "start_time": "2022-02-08T05:13:55.991802Z"
    }
   },
   "outputs": [],
   "source": [
    "from IPython.core.interactiveshell import InteractiveShell\n",
    "InteractiveShell.ast_node_interactivity = \"all\""
   ]
  },
  {
   "cell_type": "code",
   "execution_count": 2,
   "metadata": {
    "ExecuteTime": {
     "end_time": "2022-02-08T05:13:56.001056Z",
     "start_time": "2022-02-08T05:13:55.998068Z"
    }
   },
   "outputs": [],
   "source": [
    "# Ignore the warnings\n",
    "import warnings\n",
    "warnings.filterwarnings('always')\n",
    "warnings.filterwarnings('ignore')"
   ]
  },
  {
   "cell_type": "code",
   "execution_count": 3,
   "metadata": {
    "ExecuteTime": {
     "end_time": "2022-02-08T05:13:57.339954Z",
     "start_time": "2022-02-08T05:13:56.004691Z"
    }
   },
   "outputs": [],
   "source": [
    "# Importing various modules for data visualisation and manipulation\n",
    "import numpy as np\n",
    "import pandas as pd \n",
    "import matplotlib.pyplot as plt \n",
    "from matplotlib import style\n",
    "import seaborn as sns\n",
    "import glob\n",
    "import collections\n",
    "import networkx as nx\n",
    "import gc\n",
    "from collections import Counter"
   ]
  },
  {
   "cell_type": "code",
   "execution_count": 4,
   "metadata": {
    "ExecuteTime": {
     "end_time": "2022-02-08T05:13:57.938853Z",
     "start_time": "2022-02-08T05:13:57.342648Z"
    }
   },
   "outputs": [],
   "source": [
    "# Import the necessary modelling algorithms\n",
    "from sklearn.linear_model import LogisticRegression \n",
    "from sklearn.ensemble import RandomForestClassifier \n",
    "from sklearn.neighbors import KNeighborsClassifier \n",
    "from sklearn import tree, metrics \n",
    "from sklearn.tree import DecisionTreeClassifier \n",
    "from sklearn.ensemble import ExtraTreesClassifier \n",
    "from sklearn.ensemble import AdaBoostClassifier \n",
    "from sklearn.ensemble import GradientBoostingClassifier \n",
    "from sklearn.naive_bayes import GaussianNB \n",
    "from sklearn.svm import SVC \n",
    "from sklearn.ensemble import BaggingClassifier \n",
    "from xgboost import XGBClassifier, plot_importance\n",
    "from sklearn.linear_model import SGDClassifier \n",
    "\n",
    "from sklearn.metrics import roc_curve,accuracy_score,precision_score,recall_score,roc_auc_score,f1_score,confusion_matrix\n",
    "from sklearn.model_selection import train_test_split, GridSearchCV, cross_val_predict,cross_val_score,cross_validate,StratifiedKFold\n",
    "\n",
    "from sklearn.utils import resample\n",
    "from sklearn.ensemble import VotingClassifier"
   ]
  },
  {
   "cell_type": "markdown",
   "metadata": {},
   "source": [
    "## data input"
   ]
  },
  {
   "cell_type": "code",
   "execution_count": 5,
   "metadata": {
    "ExecuteTime": {
     "end_time": "2022-02-08T05:13:59.088216Z",
     "start_time": "2022-02-08T05:13:57.941325Z"
    },
    "scrolled": true
   },
   "outputs": [
    {
     "data": {
      "text/html": [
       "<div>\n",
       "<style scoped>\n",
       "    .dataframe tbody tr th:only-of-type {\n",
       "        vertical-align: middle;\n",
       "    }\n",
       "\n",
       "    .dataframe tbody tr th {\n",
       "        vertical-align: top;\n",
       "    }\n",
       "\n",
       "    .dataframe thead th {\n",
       "        text-align: right;\n",
       "    }\n",
       "</style>\n",
       "<table border=\"1\" class=\"dataframe\">\n",
       "  <thead>\n",
       "    <tr style=\"text-align: right;\">\n",
       "      <th></th>\n",
       "      <th>user_id</th>\n",
       "      <th>merchant_id</th>\n",
       "      <th>label</th>\n",
       "      <th>recency</th>\n",
       "      <th>repur_mers</th>\n",
       "      <th>cart_r</th>\n",
       "      <th>buy_r</th>\n",
       "      <th>ncart</th>\n",
       "      <th>nbuy</th>\n",
       "      <th>nfav</th>\n",
       "      <th>...</th>\n",
       "      <th>i_min</th>\n",
       "      <th>c_size</th>\n",
       "      <th>c_mean</th>\n",
       "      <th>c_min</th>\n",
       "      <th>b_size</th>\n",
       "      <th>m_cart_r_y</th>\n",
       "      <th>time_range_y</th>\n",
       "      <th>ts_count</th>\n",
       "      <th>umi_min</th>\n",
       "      <th>umc_size</th>\n",
       "    </tr>\n",
       "    <tr>\n",
       "      <th>id</th>\n",
       "      <th></th>\n",
       "      <th></th>\n",
       "      <th></th>\n",
       "      <th></th>\n",
       "      <th></th>\n",
       "      <th></th>\n",
       "      <th></th>\n",
       "      <th></th>\n",
       "      <th></th>\n",
       "      <th></th>\n",
       "      <th></th>\n",
       "      <th></th>\n",
       "      <th></th>\n",
       "      <th></th>\n",
       "      <th></th>\n",
       "      <th></th>\n",
       "      <th></th>\n",
       "      <th></th>\n",
       "      <th></th>\n",
       "      <th></th>\n",
       "      <th></th>\n",
       "    </tr>\n",
       "  </thead>\n",
       "  <tbody>\n",
       "    <tr>\n",
       "      <th>34176_3906</th>\n",
       "      <td>34176</td>\n",
       "      <td>3906</td>\n",
       "      <td>0</td>\n",
       "      <td>4</td>\n",
       "      <td>1.0</td>\n",
       "      <td>0.0</td>\n",
       "      <td>0.075388</td>\n",
       "      <td>0.0</td>\n",
       "      <td>14.0</td>\n",
       "      <td>0.0</td>\n",
       "      <td>...</td>\n",
       "      <td>1</td>\n",
       "      <td>20</td>\n",
       "      <td>813.450000</td>\n",
       "      <td>5</td>\n",
       "      <td>1</td>\n",
       "      <td>0.0</td>\n",
       "      <td>21</td>\n",
       "      <td>9</td>\n",
       "      <td>1</td>\n",
       "      <td>6</td>\n",
       "    </tr>\n",
       "    <tr>\n",
       "      <th>34176_121</th>\n",
       "      <td>34176</td>\n",
       "      <td>121</td>\n",
       "      <td>0</td>\n",
       "      <td>4</td>\n",
       "      <td>1.0</td>\n",
       "      <td>0.0</td>\n",
       "      <td>0.075388</td>\n",
       "      <td>0.0</td>\n",
       "      <td>14.0</td>\n",
       "      <td>0.0</td>\n",
       "      <td>...</td>\n",
       "      <td>1</td>\n",
       "      <td>26</td>\n",
       "      <td>3071.730769</td>\n",
       "      <td>1</td>\n",
       "      <td>1</td>\n",
       "      <td>0.0</td>\n",
       "      <td>3</td>\n",
       "      <td>3</td>\n",
       "      <td>14</td>\n",
       "      <td>1</td>\n",
       "    </tr>\n",
       "    <tr>\n",
       "      <th>34176_4356</th>\n",
       "      <td>34176</td>\n",
       "      <td>4356</td>\n",
       "      <td>1</td>\n",
       "      <td>4</td>\n",
       "      <td>1.0</td>\n",
       "      <td>0.0</td>\n",
       "      <td>0.075388</td>\n",
       "      <td>0.0</td>\n",
       "      <td>14.0</td>\n",
       "      <td>0.0</td>\n",
       "      <td>...</td>\n",
       "      <td>1</td>\n",
       "      <td>15</td>\n",
       "      <td>484.600000</td>\n",
       "      <td>1</td>\n",
       "      <td>1</td>\n",
       "      <td>0.0</td>\n",
       "      <td>1</td>\n",
       "      <td>2</td>\n",
       "      <td>1</td>\n",
       "      <td>1</td>\n",
       "    </tr>\n",
       "    <tr>\n",
       "      <th>34176_2217</th>\n",
       "      <td>34176</td>\n",
       "      <td>2217</td>\n",
       "      <td>0</td>\n",
       "      <td>4</td>\n",
       "      <td>1.0</td>\n",
       "      <td>0.0</td>\n",
       "      <td>0.075388</td>\n",
       "      <td>0.0</td>\n",
       "      <td>14.0</td>\n",
       "      <td>0.0</td>\n",
       "      <td>...</td>\n",
       "      <td>1</td>\n",
       "      <td>5</td>\n",
       "      <td>12040.400000</td>\n",
       "      <td>614</td>\n",
       "      <td>1</td>\n",
       "      <td>0.0</td>\n",
       "      <td>0</td>\n",
       "      <td>1</td>\n",
       "      <td>2</td>\n",
       "      <td>1</td>\n",
       "    </tr>\n",
       "    <tr>\n",
       "      <th>230784_4818</th>\n",
       "      <td>230784</td>\n",
       "      <td>4818</td>\n",
       "      <td>0</td>\n",
       "      <td>27</td>\n",
       "      <td>0.0</td>\n",
       "      <td>0.0</td>\n",
       "      <td>0.129630</td>\n",
       "      <td>0.0</td>\n",
       "      <td>5.0</td>\n",
       "      <td>0.0</td>\n",
       "      <td>...</td>\n",
       "      <td>1</td>\n",
       "      <td>27</td>\n",
       "      <td>1781.074074</td>\n",
       "      <td>2</td>\n",
       "      <td>1</td>\n",
       "      <td>0.0</td>\n",
       "      <td>3</td>\n",
       "      <td>3</td>\n",
       "      <td>8</td>\n",
       "      <td>1</td>\n",
       "    </tr>\n",
       "    <tr>\n",
       "      <th>...</th>\n",
       "      <td>...</td>\n",
       "      <td>...</td>\n",
       "      <td>...</td>\n",
       "      <td>...</td>\n",
       "      <td>...</td>\n",
       "      <td>...</td>\n",
       "      <td>...</td>\n",
       "      <td>...</td>\n",
       "      <td>...</td>\n",
       "      <td>...</td>\n",
       "      <td>...</td>\n",
       "      <td>...</td>\n",
       "      <td>...</td>\n",
       "      <td>...</td>\n",
       "      <td>...</td>\n",
       "      <td>...</td>\n",
       "      <td>...</td>\n",
       "      <td>...</td>\n",
       "      <td>...</td>\n",
       "      <td>...</td>\n",
       "      <td>...</td>\n",
       "    </tr>\n",
       "    <tr>\n",
       "      <th>359807_4325</th>\n",
       "      <td>359807</td>\n",
       "      <td>4325</td>\n",
       "      <td>0</td>\n",
       "      <td>8</td>\n",
       "      <td>0.0</td>\n",
       "      <td>0.0</td>\n",
       "      <td>0.076923</td>\n",
       "      <td>0.0</td>\n",
       "      <td>2.0</td>\n",
       "      <td>0.0</td>\n",
       "      <td>...</td>\n",
       "      <td>1</td>\n",
       "      <td>18</td>\n",
       "      <td>1099.388889</td>\n",
       "      <td>7</td>\n",
       "      <td>1</td>\n",
       "      <td>0.0</td>\n",
       "      <td>0</td>\n",
       "      <td>1</td>\n",
       "      <td>1</td>\n",
       "      <td>2</td>\n",
       "    </tr>\n",
       "    <tr>\n",
       "      <th>294527_3971</th>\n",
       "      <td>294527</td>\n",
       "      <td>3971</td>\n",
       "      <td>0</td>\n",
       "      <td>47</td>\n",
       "      <td>0.0</td>\n",
       "      <td>0.0</td>\n",
       "      <td>0.025253</td>\n",
       "      <td>0.0</td>\n",
       "      <td>1.0</td>\n",
       "      <td>1.0</td>\n",
       "      <td>...</td>\n",
       "      <td>1</td>\n",
       "      <td>7</td>\n",
       "      <td>4127.428571</td>\n",
       "      <td>4</td>\n",
       "      <td>1</td>\n",
       "      <td>0.0</td>\n",
       "      <td>2</td>\n",
       "      <td>2</td>\n",
       "      <td>4</td>\n",
       "      <td>1</td>\n",
       "    </tr>\n",
       "    <tr>\n",
       "      <th>294527_152</th>\n",
       "      <td>294527</td>\n",
       "      <td>152</td>\n",
       "      <td>0</td>\n",
       "      <td>47</td>\n",
       "      <td>0.0</td>\n",
       "      <td>0.0</td>\n",
       "      <td>0.025253</td>\n",
       "      <td>0.0</td>\n",
       "      <td>1.0</td>\n",
       "      <td>1.0</td>\n",
       "      <td>...</td>\n",
       "      <td>1</td>\n",
       "      <td>13</td>\n",
       "      <td>623.615385</td>\n",
       "      <td>1</td>\n",
       "      <td>1</td>\n",
       "      <td>0.0</td>\n",
       "      <td>0</td>\n",
       "      <td>1</td>\n",
       "      <td>9</td>\n",
       "      <td>1</td>\n",
       "    </tr>\n",
       "    <tr>\n",
       "      <th>294527_2537</th>\n",
       "      <td>294527</td>\n",
       "      <td>2537</td>\n",
       "      <td>0</td>\n",
       "      <td>47</td>\n",
       "      <td>0.0</td>\n",
       "      <td>0.0</td>\n",
       "      <td>0.025253</td>\n",
       "      <td>0.0</td>\n",
       "      <td>1.0</td>\n",
       "      <td>1.0</td>\n",
       "      <td>...</td>\n",
       "      <td>1</td>\n",
       "      <td>21</td>\n",
       "      <td>2290.190476</td>\n",
       "      <td>1</td>\n",
       "      <td>1</td>\n",
       "      <td>0.0</td>\n",
       "      <td>0</td>\n",
       "      <td>1</td>\n",
       "      <td>1</td>\n",
       "      <td>1</td>\n",
       "    </tr>\n",
       "    <tr>\n",
       "      <th>229247_4140</th>\n",
       "      <td>229247</td>\n",
       "      <td>4140</td>\n",
       "      <td>0</td>\n",
       "      <td>28</td>\n",
       "      <td>0.0</td>\n",
       "      <td>0.0</td>\n",
       "      <td>0.046392</td>\n",
       "      <td>0.0</td>\n",
       "      <td>4.0</td>\n",
       "      <td>0.0</td>\n",
       "      <td>...</td>\n",
       "      <td>1</td>\n",
       "      <td>3</td>\n",
       "      <td>2855.333333</td>\n",
       "      <td>2</td>\n",
       "      <td>1</td>\n",
       "      <td>0.0</td>\n",
       "      <td>1</td>\n",
       "      <td>2</td>\n",
       "      <td>1</td>\n",
       "      <td>1</td>\n",
       "    </tr>\n",
       "  </tbody>\n",
       "</table>\n",
       "<p>260864 rows × 33 columns</p>\n",
       "</div>"
      ],
      "text/plain": [
       "             user_id  merchant_id  label  recency  repur_mers  cart_r  \\\n",
       "id                                                                      \n",
       "34176_3906     34176         3906      0        4         1.0     0.0   \n",
       "34176_121      34176          121      0        4         1.0     0.0   \n",
       "34176_4356     34176         4356      1        4         1.0     0.0   \n",
       "34176_2217     34176         2217      0        4         1.0     0.0   \n",
       "230784_4818   230784         4818      0       27         0.0     0.0   \n",
       "...              ...          ...    ...      ...         ...     ...   \n",
       "359807_4325   359807         4325      0        8         0.0     0.0   \n",
       "294527_3971   294527         3971      0       47         0.0     0.0   \n",
       "294527_152    294527          152      0       47         0.0     0.0   \n",
       "294527_2537   294527         2537      0       47         0.0     0.0   \n",
       "229247_4140   229247         4140      0       28         0.0     0.0   \n",
       "\n",
       "                buy_r  ncart  nbuy  nfav  ...  i_min  c_size        c_mean  \\\n",
       "id                                        ...                                \n",
       "34176_3906   0.075388    0.0  14.0   0.0  ...      1      20    813.450000   \n",
       "34176_121    0.075388    0.0  14.0   0.0  ...      1      26   3071.730769   \n",
       "34176_4356   0.075388    0.0  14.0   0.0  ...      1      15    484.600000   \n",
       "34176_2217   0.075388    0.0  14.0   0.0  ...      1       5  12040.400000   \n",
       "230784_4818  0.129630    0.0   5.0   0.0  ...      1      27   1781.074074   \n",
       "...               ...    ...   ...   ...  ...    ...     ...           ...   \n",
       "359807_4325  0.076923    0.0   2.0   0.0  ...      1      18   1099.388889   \n",
       "294527_3971  0.025253    0.0   1.0   1.0  ...      1       7   4127.428571   \n",
       "294527_152   0.025253    0.0   1.0   1.0  ...      1      13    623.615385   \n",
       "294527_2537  0.025253    0.0   1.0   1.0  ...      1      21   2290.190476   \n",
       "229247_4140  0.046392    0.0   4.0   0.0  ...      1       3   2855.333333   \n",
       "\n",
       "             c_min  b_size  m_cart_r_y  time_range_y  ts_count  umi_min  \\\n",
       "id                                                                        \n",
       "34176_3906       5       1         0.0            21         9        1   \n",
       "34176_121        1       1         0.0             3         3       14   \n",
       "34176_4356       1       1         0.0             1         2        1   \n",
       "34176_2217     614       1         0.0             0         1        2   \n",
       "230784_4818      2       1         0.0             3         3        8   \n",
       "...            ...     ...         ...           ...       ...      ...   \n",
       "359807_4325      7       1         0.0             0         1        1   \n",
       "294527_3971      4       1         0.0             2         2        4   \n",
       "294527_152       1       1         0.0             0         1        9   \n",
       "294527_2537      1       1         0.0             0         1        1   \n",
       "229247_4140      2       1         0.0             1         2        1   \n",
       "\n",
       "             umc_size  \n",
       "id                     \n",
       "34176_3906          6  \n",
       "34176_121           1  \n",
       "34176_4356          1  \n",
       "34176_2217          1  \n",
       "230784_4818         1  \n",
       "...               ...  \n",
       "359807_4325         2  \n",
       "294527_3971         1  \n",
       "294527_152          1  \n",
       "294527_2537         1  \n",
       "229247_4140         1  \n",
       "\n",
       "[260864 rows x 33 columns]"
      ]
     },
     "execution_count": 5,
     "metadata": {},
     "output_type": "execute_result"
    }
   ],
   "source": [
    "final_df = pd.read_csv('./vif.csv')\n",
    "#del vif_df['Unnamed: 0']\n",
    "# df = df.set_index('id')\n",
    "final_df = final_df.set_index('id')\n",
    "final_df"
   ]
  },
  {
   "cell_type": "code",
   "execution_count": 6,
   "metadata": {
    "ExecuteTime": {
     "end_time": "2022-02-08T05:13:59.324482Z",
     "start_time": "2022-02-08T05:13:59.091438Z"
    }
   },
   "outputs": [],
   "source": [
    "X0 = final_df.drop(['user_id','merchant_id','label'],axis = 1)\n",
    "Y0 = final_df['label'].values\n",
    "Xtrain, Xtest, ytrain, ytest = train_test_split(X0, Y0, test_size=0.3, random_state = 42,stratify = Y0)"
   ]
  },
  {
   "cell_type": "markdown",
   "metadata": {},
   "source": [
    "## class balance"
   ]
  },
  {
   "cell_type": "code",
   "execution_count": 7,
   "metadata": {
    "ExecuteTime": {
     "end_time": "2022-02-08T05:13:59.335587Z",
     "start_time": "2022-02-08T05:13:59.327877Z"
    }
   },
   "outputs": [
    {
     "data": {
      "text/plain": [
       "0    244912\n",
       "1     15952\n",
       "Name: label, dtype: int64"
      ]
     },
     "execution_count": 7,
     "metadata": {},
     "output_type": "execute_result"
    }
   ],
   "source": [
    "final_df['label'].value_counts()"
   ]
  },
  {
   "cell_type": "code",
   "execution_count": 8,
   "metadata": {
    "ExecuteTime": {
     "end_time": "2022-02-08T05:13:59.348304Z",
     "start_time": "2022-02-08T05:13:59.338160Z"
    }
   },
   "outputs": [
    {
     "name": "stdout",
     "output_type": "stream",
     "text": [
      "Class Balance =  0.06115063788027478\n"
     ]
    }
   ],
   "source": [
    "class_balance = final_df['label'].value_counts()[1]/final_df['label'].value_counts().sum()\n",
    "print('Class Balance = ',class_balance)"
   ]
  },
  {
   "cell_type": "markdown",
   "metadata": {},
   "source": [
    "## Select and Train Models"
   ]
  },
  {
   "cell_type": "code",
   "execution_count": 9,
   "metadata": {
    "ExecuteTime": {
     "end_time": "2022-02-08T05:13:59.356648Z",
     "start_time": "2022-02-08T05:13:59.350923Z"
    }
   },
   "outputs": [],
   "source": [
    "model_dict = {'Logistic Regression':LogisticRegression(),\n",
    "              'Random Forrest':RandomForestClassifier(),\n",
    "              'Decision Tree Classifier':tree.DecisionTreeClassifier(),\n",
    "              'ExtraTrees Classifier':ExtraTreesClassifier(),\n",
    "              'KNeighbors Classifier':KNeighborsClassifier(),\n",
    "              'AdaBoost Classifier':AdaBoostClassifier(),\n",
    "              'Bagging Classifier':BaggingClassifier(),\n",
    "              'GradientBoosting Classifier':GradientBoostingClassifier(),\n",
    "              'Support Vector Machines':SVC(),\n",
    "              'Stochastic Gradient Descent':SGDClassifier(),\n",
    "              'XGBoost':XGBClassifier(),\n",
    "              'GaussianNB':GaussianNB(),\n",
    "             }"
   ]
  },
  {
   "cell_type": "code",
   "execution_count": 10,
   "metadata": {
    "ExecuteTime": {
     "end_time": "2022-02-08T05:50:24.209577Z",
     "start_time": "2022-02-08T05:13:59.360311Z"
    }
   },
   "outputs": [
    {
     "name": "stdout",
     "output_type": "stream",
     "text": [
      "[13:50:04] WARNING: /opt/concourse/worker/volumes/live/7a2b9f41-3287-451b-6691-43e9a6c0910f/volume/xgboost-split_1619728204606/work/src/learner.cc:1061: Starting in XGBoost 1.3.0, the default evaluation metric used with the objective 'binary:logistic' was changed from 'error' to 'logloss'. Explicitly set eval_metric if you'd like to restore the old behavior.\n",
      "[13:50:10] WARNING: /opt/concourse/worker/volumes/live/7a2b9f41-3287-451b-6691-43e9a6c0910f/volume/xgboost-split_1619728204606/work/src/learner.cc:1061: Starting in XGBoost 1.3.0, the default evaluation metric used with the objective 'binary:logistic' was changed from 'error' to 'logloss'. Explicitly set eval_metric if you'd like to restore the old behavior.\n",
      "[13:50:16] WARNING: /opt/concourse/worker/volumes/live/7a2b9f41-3287-451b-6691-43e9a6c0910f/volume/xgboost-split_1619728204606/work/src/learner.cc:1061: Starting in XGBoost 1.3.0, the default evaluation metric used with the objective 'binary:logistic' was changed from 'error' to 'logloss'. Explicitly set eval_metric if you'd like to restore the old behavior.\n"
     ]
    },
    {
     "data": {
      "text/html": [
       "<div>\n",
       "<style scoped>\n",
       "    .dataframe tbody tr th:only-of-type {\n",
       "        vertical-align: middle;\n",
       "    }\n",
       "\n",
       "    .dataframe tbody tr th {\n",
       "        vertical-align: top;\n",
       "    }\n",
       "\n",
       "    .dataframe thead th {\n",
       "        text-align: right;\n",
       "    }\n",
       "</style>\n",
       "<table border=\"1\" class=\"dataframe\">\n",
       "  <thead>\n",
       "    <tr style=\"text-align: right;\">\n",
       "      <th></th>\n",
       "      <th>Model</th>\n",
       "      <th>Train Accuracy</th>\n",
       "      <th>Precision</th>\n",
       "      <th>Recall</th>\n",
       "      <th>F1-Measure</th>\n",
       "      <th>fitting_time</th>\n",
       "    </tr>\n",
       "  </thead>\n",
       "  <tbody>\n",
       "    <tr>\n",
       "      <th>0</th>\n",
       "      <td>Logistic Regression</td>\n",
       "      <td>0.938353</td>\n",
       "      <td>0.111111</td>\n",
       "      <td>0.001164</td>\n",
       "      <td>0.002304</td>\n",
       "      <td>1.528090</td>\n",
       "    </tr>\n",
       "    <tr>\n",
       "      <th>1</th>\n",
       "      <td>Random Forrest</td>\n",
       "      <td>0.974300</td>\n",
       "      <td>0.725336</td>\n",
       "      <td>0.933011</td>\n",
       "      <td>0.816170</td>\n",
       "      <td>13.948209</td>\n",
       "    </tr>\n",
       "    <tr>\n",
       "      <th>2</th>\n",
       "      <td>Decision Tree Classifier</td>\n",
       "      <td>0.966529</td>\n",
       "      <td>0.730230</td>\n",
       "      <td>0.717804</td>\n",
       "      <td>0.723964</td>\n",
       "      <td>0.426977</td>\n",
       "    </tr>\n",
       "    <tr>\n",
       "      <th>3</th>\n",
       "      <td>ExtraTrees Classifier</td>\n",
       "      <td>0.973900</td>\n",
       "      <td>0.722841</td>\n",
       "      <td>0.929608</td>\n",
       "      <td>0.813288</td>\n",
       "      <td>9.538768</td>\n",
       "    </tr>\n",
       "    <tr>\n",
       "      <th>4</th>\n",
       "      <td>KNeighbors Classifier</td>\n",
       "      <td>0.936053</td>\n",
       "      <td>0.169470</td>\n",
       "      <td>0.011732</td>\n",
       "      <td>0.021945</td>\n",
       "      <td>0.090949</td>\n",
       "    </tr>\n",
       "    <tr>\n",
       "      <th>5</th>\n",
       "      <td>AdaBoost Classifier</td>\n",
       "      <td>0.974447</td>\n",
       "      <td>0.725600</td>\n",
       "      <td>0.936145</td>\n",
       "      <td>0.817535</td>\n",
       "      <td>8.941982</td>\n",
       "    </tr>\n",
       "    <tr>\n",
       "      <th>6</th>\n",
       "      <td>Bagging Classifier</td>\n",
       "      <td>0.970203</td>\n",
       "      <td>0.738920</td>\n",
       "      <td>0.792853</td>\n",
       "      <td>0.764937</td>\n",
       "      <td>2.524077</td>\n",
       "    </tr>\n",
       "    <tr>\n",
       "      <th>7</th>\n",
       "      <td>GradientBoosting Classifier</td>\n",
       "      <td>0.974962</td>\n",
       "      <td>0.714620</td>\n",
       "      <td>0.983163</td>\n",
       "      <td>0.827654</td>\n",
       "      <td>36.378134</td>\n",
       "    </tr>\n",
       "    <tr>\n",
       "      <th>8</th>\n",
       "      <td>Support Vector Machines</td>\n",
       "      <td>0.938851</td>\n",
       "      <td>0.000000</td>\n",
       "      <td>0.000000</td>\n",
       "      <td>0.000000</td>\n",
       "      <td>241.341012</td>\n",
       "    </tr>\n",
       "    <tr>\n",
       "      <th>9</th>\n",
       "      <td>Stochastic Gradient Descent</td>\n",
       "      <td>0.921201</td>\n",
       "      <td>0.179303</td>\n",
       "      <td>0.080691</td>\n",
       "      <td>0.111296</td>\n",
       "      <td>6.285874</td>\n",
       "    </tr>\n",
       "    <tr>\n",
       "      <th>10</th>\n",
       "      <td>XGBoost</td>\n",
       "      <td>0.973560</td>\n",
       "      <td>0.736917</td>\n",
       "      <td>0.882769</td>\n",
       "      <td>0.803276</td>\n",
       "      <td>15.732252</td>\n",
       "    </tr>\n",
       "    <tr>\n",
       "      <th>11</th>\n",
       "      <td>GaussianNB</td>\n",
       "      <td>0.944974</td>\n",
       "      <td>0.528684</td>\n",
       "      <td>0.922712</td>\n",
       "      <td>0.672212</td>\n",
       "      <td>0.160822</td>\n",
       "    </tr>\n",
       "  </tbody>\n",
       "</table>\n",
       "</div>"
      ],
      "text/plain": [
       "                          Model  Train Accuracy  Precision    Recall  \\\n",
       "0           Logistic Regression        0.938353   0.111111  0.001164   \n",
       "1                Random Forrest        0.974300   0.725336  0.933011   \n",
       "2      Decision Tree Classifier        0.966529   0.730230  0.717804   \n",
       "3         ExtraTrees Classifier        0.973900   0.722841  0.929608   \n",
       "4         KNeighbors Classifier        0.936053   0.169470  0.011732   \n",
       "5           AdaBoost Classifier        0.974447   0.725600  0.936145   \n",
       "6            Bagging Classifier        0.970203   0.738920  0.792853   \n",
       "7   GradientBoosting Classifier        0.974962   0.714620  0.983163   \n",
       "8       Support Vector Machines        0.938851   0.000000  0.000000   \n",
       "9   Stochastic Gradient Descent        0.921201   0.179303  0.080691   \n",
       "10                      XGBoost        0.973560   0.736917  0.882769   \n",
       "11                   GaussianNB        0.944974   0.528684  0.922712   \n",
       "\n",
       "    F1-Measure  fitting_time  \n",
       "0     0.002304      1.528090  \n",
       "1     0.816170     13.948209  \n",
       "2     0.723964      0.426977  \n",
       "3     0.813288      9.538768  \n",
       "4     0.021945      0.090949  \n",
       "5     0.817535      8.941982  \n",
       "6     0.764937      2.524077  \n",
       "7     0.827654     36.378134  \n",
       "8     0.000000    241.341012  \n",
       "9     0.111296      6.285874  \n",
       "10    0.803276     15.732252  \n",
       "11    0.672212      0.160822  "
      ]
     },
     "execution_count": 10,
     "metadata": {},
     "output_type": "execute_result"
    }
   ],
   "source": [
    "folds = StratifiedKFold(n_splits=5, shuffle=True, random_state=42)\n",
    "folds = 3\n",
    "list_models_scores = list()\n",
    "\n",
    "for model_name, model in model_dict.items():\n",
    "    cv_score = cross_validate(model,Xtrain,ytrain, cv=folds, return_train_score=False, n_jobs=-1) \n",
    "    ypred = cross_val_predict(model, Xtrain, ytrain, cv=folds)\n",
    "    list_models_scores.append({'Model': model_name,\n",
    "                                     'Train Accuracy':accuracy_score(ytrain,ypred),\n",
    "                                     'Precision':precision_score(ytrain,ypred), \n",
    "                                     'Recall': recall_score(ytrain,ypred),\n",
    "                                     'F1-Measure': f1_score(ytrain,ypred),\n",
    "                                     'fitting_time': cv_score['fit_time'].mean()\n",
    "                                    })\n",
    "    \n",
    "\n",
    "\n",
    "#result\n",
    "pd.DataFrame(list_models_scores)"
   ]
  },
  {
   "cell_type": "markdown",
   "metadata": {},
   "source": [
    "# Resample"
   ]
  },
  {
   "cell_type": "code",
   "execution_count": 11,
   "metadata": {
    "ExecuteTime": {
     "end_time": "2022-02-08T05:50:24.469913Z",
     "start_time": "2022-02-08T05:50:24.212714Z"
    },
    "scrolled": true
   },
   "outputs": [
    {
     "name": "stdout",
     "output_type": "stream",
     "text": [
      "Current DataFrame:\n",
      "0    244912\n",
      "1     15952\n",
      "Name: label, dtype: int64\n",
      "Data Frame following Downsampling:\n",
      "0    15952\n",
      "1    15952\n",
      "Name: label, dtype: int64\n"
     ]
    }
   ],
   "source": [
    "df_sampling = final_df.copy()\n",
    "print('Current DataFrame:')\n",
    "print(df_sampling.label.value_counts())\n",
    "\n",
    "df_majority = df_sampling[df_sampling.label==0]\n",
    "df_minority = df_sampling[df_sampling.label==1]\n",
    "\n",
    "df_majority_downsampled = resample(df_majority, \n",
    "                                 replace=False,    \n",
    "                                 n_samples= df_sampling[df_sampling.label==1].shape[0],    \n",
    "                                 random_state=1) \n",
    "\n",
    "df_downsampled = pd.concat([df_majority_downsampled, df_minority])\n",
    "\n",
    "clean_dataset_dropped = df_downsampled.copy()    \n",
    "\n",
    "#result\n",
    "print('Data Frame following Downsampling:')\n",
    "print(df_downsampled.label.value_counts())"
   ]
  },
  {
   "cell_type": "code",
   "execution_count": 12,
   "metadata": {
    "ExecuteTime": {
     "end_time": "2022-02-08T05:50:24.519864Z",
     "start_time": "2022-02-08T05:50:24.473137Z"
    }
   },
   "outputs": [],
   "source": [
    "X = df_downsampled.drop(['user_id','merchant_id','label'],axis = 1)\n",
    "Y = df_downsampled['label'].values\n",
    "Xtrain, Xtest1, ytrain, ytest1 = train_test_split(X, Y, test_size=0.2, random_state = 42, stratify= Y)"
   ]
  },
  {
   "cell_type": "code",
   "execution_count": 13,
   "metadata": {
    "ExecuteTime": {
     "end_time": "2022-02-08T05:53:52.715982Z",
     "start_time": "2022-02-08T05:50:24.522914Z"
    }
   },
   "outputs": [
    {
     "name": "stdout",
     "output_type": "stream",
     "text": [
      "[13:53:49] WARNING: /opt/concourse/worker/volumes/live/7a2b9f41-3287-451b-6691-43e9a6c0910f/volume/xgboost-split_1619728204606/work/src/learner.cc:1061: Starting in XGBoost 1.3.0, the default evaluation metric used with the objective 'binary:logistic' was changed from 'error' to 'logloss'. Explicitly set eval_metric if you'd like to restore the old behavior.\n",
      "[13:53:50] WARNING: /opt/concourse/worker/volumes/live/7a2b9f41-3287-451b-6691-43e9a6c0910f/volume/xgboost-split_1619728204606/work/src/learner.cc:1061: Starting in XGBoost 1.3.0, the default evaluation metric used with the objective 'binary:logistic' was changed from 'error' to 'logloss'. Explicitly set eval_metric if you'd like to restore the old behavior.\n",
      "[13:53:51] WARNING: /opt/concourse/worker/volumes/live/7a2b9f41-3287-451b-6691-43e9a6c0910f/volume/xgboost-split_1619728204606/work/src/learner.cc:1061: Starting in XGBoost 1.3.0, the default evaluation metric used with the objective 'binary:logistic' was changed from 'error' to 'logloss'. Explicitly set eval_metric if you'd like to restore the old behavior.\n"
     ]
    },
    {
     "data": {
      "text/html": [
       "<div>\n",
       "<style scoped>\n",
       "    .dataframe tbody tr th:only-of-type {\n",
       "        vertical-align: middle;\n",
       "    }\n",
       "\n",
       "    .dataframe tbody tr th {\n",
       "        vertical-align: top;\n",
       "    }\n",
       "\n",
       "    .dataframe thead th {\n",
       "        text-align: right;\n",
       "    }\n",
       "</style>\n",
       "<table border=\"1\" class=\"dataframe\">\n",
       "  <thead>\n",
       "    <tr style=\"text-align: right;\">\n",
       "      <th></th>\n",
       "      <th>Model</th>\n",
       "      <th>Train Accuracy</th>\n",
       "      <th>Precision</th>\n",
       "      <th>Recall</th>\n",
       "      <th>F1-Measure</th>\n",
       "      <th>fitting_time</th>\n",
       "    </tr>\n",
       "  </thead>\n",
       "  <tbody>\n",
       "    <tr>\n",
       "      <th>0</th>\n",
       "      <td>Logistic Regression</td>\n",
       "      <td>0.606512</td>\n",
       "      <td>0.593110</td>\n",
       "      <td>0.678577</td>\n",
       "      <td>0.632972</td>\n",
       "      <td>0.266451</td>\n",
       "    </tr>\n",
       "    <tr>\n",
       "      <th>1</th>\n",
       "      <td>Random Forrest</td>\n",
       "      <td>0.986561</td>\n",
       "      <td>0.973827</td>\n",
       "      <td>1.000000</td>\n",
       "      <td>0.986740</td>\n",
       "      <td>2.277339</td>\n",
       "    </tr>\n",
       "    <tr>\n",
       "      <th>2</th>\n",
       "      <td>Decision Tree Classifier</td>\n",
       "      <td>0.966618</td>\n",
       "      <td>0.973370</td>\n",
       "      <td>0.959489</td>\n",
       "      <td>0.966380</td>\n",
       "      <td>0.141006</td>\n",
       "    </tr>\n",
       "    <tr>\n",
       "      <th>3</th>\n",
       "      <td>ExtraTrees Classifier</td>\n",
       "      <td>0.986483</td>\n",
       "      <td>0.973823</td>\n",
       "      <td>0.999843</td>\n",
       "      <td>0.986662</td>\n",
       "      <td>1.407436</td>\n",
       "    </tr>\n",
       "    <tr>\n",
       "      <th>4</th>\n",
       "      <td>KNeighbors Classifier</td>\n",
       "      <td>0.566861</td>\n",
       "      <td>0.568209</td>\n",
       "      <td>0.557123</td>\n",
       "      <td>0.562611</td>\n",
       "      <td>0.014595</td>\n",
       "    </tr>\n",
       "    <tr>\n",
       "      <th>5</th>\n",
       "      <td>AdaBoost Classifier</td>\n",
       "      <td>0.986561</td>\n",
       "      <td>0.973827</td>\n",
       "      <td>1.000000</td>\n",
       "      <td>0.986740</td>\n",
       "      <td>1.065176</td>\n",
       "    </tr>\n",
       "    <tr>\n",
       "      <th>6</th>\n",
       "      <td>Bagging Classifier</td>\n",
       "      <td>0.985464</td>\n",
       "      <td>0.973771</td>\n",
       "      <td>0.997806</td>\n",
       "      <td>0.985642</td>\n",
       "      <td>0.868152</td>\n",
       "    </tr>\n",
       "    <tr>\n",
       "      <th>7</th>\n",
       "      <td>GradientBoosting Classifier</td>\n",
       "      <td>0.986169</td>\n",
       "      <td>0.973807</td>\n",
       "      <td>0.999216</td>\n",
       "      <td>0.986348</td>\n",
       "      <td>4.172773</td>\n",
       "    </tr>\n",
       "    <tr>\n",
       "      <th>8</th>\n",
       "      <td>Support Vector Machines</td>\n",
       "      <td>0.529836</td>\n",
       "      <td>0.548846</td>\n",
       "      <td>0.335449</td>\n",
       "      <td>0.416399</td>\n",
       "      <td>28.000375</td>\n",
       "    </tr>\n",
       "    <tr>\n",
       "      <th>9</th>\n",
       "      <td>Stochastic Gradient Descent</td>\n",
       "      <td>0.547271</td>\n",
       "      <td>0.541220</td>\n",
       "      <td>0.620906</td>\n",
       "      <td>0.578331</td>\n",
       "      <td>0.285269</td>\n",
       "    </tr>\n",
       "    <tr>\n",
       "      <th>10</th>\n",
       "      <td>XGBoost</td>\n",
       "      <td>0.986052</td>\n",
       "      <td>0.973801</td>\n",
       "      <td>0.998981</td>\n",
       "      <td>0.986230</td>\n",
       "      <td>3.137483</td>\n",
       "    </tr>\n",
       "    <tr>\n",
       "      <th>11</th>\n",
       "      <td>GaussianNB</td>\n",
       "      <td>0.953963</td>\n",
       "      <td>0.932706</td>\n",
       "      <td>0.978530</td>\n",
       "      <td>0.955069</td>\n",
       "      <td>0.028072</td>\n",
       "    </tr>\n",
       "  </tbody>\n",
       "</table>\n",
       "</div>"
      ],
      "text/plain": [
       "                          Model  Train Accuracy  Precision    Recall  \\\n",
       "0           Logistic Regression        0.606512   0.593110  0.678577   \n",
       "1                Random Forrest        0.986561   0.973827  1.000000   \n",
       "2      Decision Tree Classifier        0.966618   0.973370  0.959489   \n",
       "3         ExtraTrees Classifier        0.986483   0.973823  0.999843   \n",
       "4         KNeighbors Classifier        0.566861   0.568209  0.557123   \n",
       "5           AdaBoost Classifier        0.986561   0.973827  1.000000   \n",
       "6            Bagging Classifier        0.985464   0.973771  0.997806   \n",
       "7   GradientBoosting Classifier        0.986169   0.973807  0.999216   \n",
       "8       Support Vector Machines        0.529836   0.548846  0.335449   \n",
       "9   Stochastic Gradient Descent        0.547271   0.541220  0.620906   \n",
       "10                      XGBoost        0.986052   0.973801  0.998981   \n",
       "11                   GaussianNB        0.953963   0.932706  0.978530   \n",
       "\n",
       "    F1-Measure  fitting_time  \n",
       "0     0.632972      0.266451  \n",
       "1     0.986740      2.277339  \n",
       "2     0.966380      0.141006  \n",
       "3     0.986662      1.407436  \n",
       "4     0.562611      0.014595  \n",
       "5     0.986740      1.065176  \n",
       "6     0.985642      0.868152  \n",
       "7     0.986348      4.172773  \n",
       "8     0.416399     28.000375  \n",
       "9     0.578331      0.285269  \n",
       "10    0.986230      3.137483  \n",
       "11    0.955069      0.028072  "
      ]
     },
     "execution_count": 13,
     "metadata": {},
     "output_type": "execute_result"
    }
   ],
   "source": [
    "# folds = StratifiedKFold(n_splits=5, shuffle=True) #, random_state=42)\n",
    "# folds = 3\n",
    "list_models_scores = list()\n",
    "\n",
    "for model_name, model in model_dict.items():\n",
    "    cv_score = cross_validate(model,Xtrain,ytrain, cv=folds, return_train_score=False, n_jobs=-1) #scoring = scoring\n",
    "    ypred = cross_val_predict(model, Xtrain, ytrain, cv=folds)\n",
    "    list_models_scores.append({'Model': model_name,\n",
    "                                     'Train Accuracy':accuracy_score(ytrain,ypred),\n",
    "                                     'Precision':precision_score(ytrain,ypred), \n",
    "                                     'Recall': recall_score(ytrain,ypred),\n",
    "                                     'F1-Measure': f1_score(ytrain,ypred),\n",
    "                                     'fitting_time': cv_score['fit_time'].mean()\n",
    "                                    })\n",
    "\n",
    "# result\n",
    "pd.DataFrame(list_models_scores)"
   ]
  },
  {
   "cell_type": "markdown",
   "metadata": {},
   "source": [
    "# Fine-Tune"
   ]
  },
  {
   "cell_type": "code",
   "execution_count": 14,
   "metadata": {
    "ExecuteTime": {
     "end_time": "2022-02-08T05:53:52.726427Z",
     "start_time": "2022-02-08T05:53:52.721426Z"
    }
   },
   "outputs": [],
   "source": [
    "def model_fit_ensemble(model, param_grid, folds):\n",
    "    model_gs = GridSearchCV(model, param_grid, cv=folds)\n",
    "    model_gs.fit(Xtrain, ytrain)\n",
    "    model_best = model_gs.best_estimator_\n",
    "    print(model_gs.best_estimator_)\n",
    "    ypred = cross_val_predict(model_best, Xtrain, ytrain, cv=folds)\n",
    "    model_accuracy = accuracy_score(ytrain,ypred) \n",
    "    model_precision = precision_score(ytrain,ypred)\n",
    "    model_recall = recall_score(ytrain,ypred)\n",
    "    model_f1 = f1_score(ytrain,ypred)\n",
    "    print('Train Accuracy:',model_accuracy,\n",
    "          'Precision:',model_precision,\n",
    "          'Recall:', model_recall,\n",
    "          'F1 Score:', model_f1)\n",
    "    \n",
    "    return model_best"
   ]
  },
  {
   "cell_type": "code",
   "execution_count": 15,
   "metadata": {
    "ExecuteTime": {
     "end_time": "2022-02-08T06:01:55.946220Z",
     "start_time": "2022-02-08T05:53:52.729954Z"
    }
   },
   "outputs": [
    {
     "name": "stdout",
     "output_type": "stream",
     "text": [
      "RandomForestClassifier(max_depth=100, n_estimators=200, random_state=42)\n",
      "Train Accuracy: 0.9865611409317087 Precision: 0.9738267836703548 Recall: 1.0 F1 Score: 0.9867398615997217\n",
      "XGBClassifier(base_score=0.5, booster='gbtree', colsample_bylevel=1,\n",
      "              colsample_bynode=1, colsample_bytree=1, gamma=0, gpu_id=-1,\n",
      "              importance_type='gain', interaction_constraints='',\n",
      "              learning_rate=0.300000012, max_delta_step=0, max_depth=7,\n",
      "              min_child_weight=1, missing=nan, monotone_constraints='()',\n",
      "              n_estimators=200, n_jobs=8, num_parallel_tree=1,\n",
      "              objective='binary:logitraw', random_state=42, reg_alpha=0,\n",
      "              reg_lambda=1, scale_pos_weight=1, subsample=1,\n",
      "              tree_method='exact', validate_parameters=1, verbosity=None)\n",
      "Train Accuracy: 0.9857383536418133 Precision: 0.9741471623068686 Recall: 0.9979627017708823 F1 Score: 0.9859111317541415\n",
      "BaggingClassifier(max_features=20, random_state=42)\n",
      "Train Accuracy: 0.9858558946832269 Precision: 0.9739356416723993 Recall: 0.9984328475160633 F1 Score: 0.9860321145289225\n"
     ]
    }
   ],
   "source": [
    "folds = StratifiedKFold(n_splits=4, shuffle=True, random_state=42)\n",
    "\n",
    "param_grid_RFC = [{'n_estimators':[200,350,500],'max_features':['auto',5],'max_depth':[100,200],'random_state':[42]}]\n",
    "param_grid_xgb = [{'n_estimators':[200,350,500],'max_depth':[5,7],'random_state':[42],'objective':['binary:logitraw']}]\n",
    "param_grid_bagging = [{'random_state':[42],'max_features':[10,20,30]}]\n",
    "\n",
    "rfc_best = model_fit_ensemble(RandomForestClassifier(), param_grid_RFC, folds)\n",
    "xgb_best = model_fit_ensemble(XGBClassifier(), param_grid_xgb, folds)\n",
    "bagging_best = model_fit_ensemble(BaggingClassifier(), param_grid_bagging, folds)\n",
    "\n"
   ]
  },
  {
   "cell_type": "code",
   "execution_count": 16,
   "metadata": {
    "ExecuteTime": {
     "end_time": "2022-02-08T06:01:55.956959Z",
     "start_time": "2022-02-08T06:01:55.948841Z"
    }
   },
   "outputs": [],
   "source": [
    "rfc_best = RandomForestClassifier(max_depth=100, n_estimators=200, random_state=42)\n",
    "\n",
    "xgb_best = XGBClassifier(base_score=0.5, booster='gbtree', colsample_bylevel=1,\n",
    "              colsample_bynode=1, colsample_bytree=1, gamma=0, gpu_id=-1,\n",
    "              importance_type='gain', interaction_constraints='',\n",
    "              learning_rate=0.300000012, max_delta_step=0, max_depth=7,\n",
    "              min_child_weight=1, missing=np.nan, monotone_constraints='()',\n",
    "              n_estimators=200, n_jobs=8, num_parallel_tree=1,\n",
    "              objective='binary:logitraw', random_state=42, reg_alpha=0,\n",
    "              reg_lambda=1, scale_pos_weight=1, subsample=1,\n",
    "              tree_method='exact', validate_parameters=1, verbosity=None)\n",
    "\n",
    "bagging_best = BaggingClassifier(max_features=30, random_state=42)"
   ]
  },
  {
   "cell_type": "markdown",
   "metadata": {
    "ExecuteTime": {
     "end_time": "2022-02-05T21:37:09.857356Z",
     "start_time": "2022-02-05T21:37:09.854780Z"
    }
   },
   "source": [
    "## Feature Importances"
   ]
  },
  {
   "cell_type": "code",
   "execution_count": 17,
   "metadata": {
    "ExecuteTime": {
     "end_time": "2022-02-08T06:01:59.704838Z",
     "start_time": "2022-02-08T06:01:55.959050Z"
    },
    "scrolled": true
   },
   "outputs": [
    {
     "data": {
      "text/plain": [
       "XGBClassifier(base_score=0.5, booster='gbtree', colsample_bylevel=1,\n",
       "              colsample_bynode=1, colsample_bytree=1, gamma=0, gpu_id=-1,\n",
       "              importance_type='gain', interaction_constraints='',\n",
       "              learning_rate=0.300000012, max_delta_step=0, max_depth=7,\n",
       "              min_child_weight=1, missing=nan, monotone_constraints='()',\n",
       "              n_estimators=200, n_jobs=8, num_parallel_tree=1,\n",
       "              objective='binary:logitraw', random_state=42, reg_alpha=0,\n",
       "              reg_lambda=1, scale_pos_weight=1, subsample=1,\n",
       "              tree_method='exact', validate_parameters=1, verbosity=None)"
      ]
     },
     "execution_count": 17,
     "metadata": {},
     "output_type": "execute_result"
    },
    {
     "data": {
      "text/plain": [
       "<AxesSubplot:title={'center':'Feature importance'}, xlabel='F score', ylabel='Features'>"
      ]
     },
     "execution_count": 17,
     "metadata": {},
     "output_type": "execute_result"
    },
    {
     "data": {
      "image/png": "[encoded data removed]",
      "text/plain": [
       "<Figure size 720x360 with 1 Axes>"
      ]
     },
     "metadata": {
      "needs_background": "light"
     },
     "output_type": "display_data"
    }
   ],
   "source": [
    "xgb_best.fit(Xtrain, ytrain)\n",
    "fig, ax = plt.subplots(figsize = (10,5))\n",
    "plot_importance(xgb_best, height = 0.3, ax = ax, max_num_features = 10)\n",
    "# importance_type = 'weight'\n",
    "plt.show()"
   ]
  },
  {
   "cell_type": "code",
   "execution_count": 18,
   "metadata": {
    "ExecuteTime": {
     "end_time": "2022-02-08T06:02:05.533784Z",
     "start_time": "2022-02-08T06:01:59.707214Z"
    }
   },
   "outputs": [
    {
     "data": {
      "text/plain": [
       "RandomForestClassifier(max_depth=100, n_estimators=200, random_state=42)"
      ]
     },
     "execution_count": 18,
     "metadata": {},
     "output_type": "execute_result"
    },
    {
     "data": {
      "text/plain": [
       "<AxesSubplot:xlabel='feature'>"
      ]
     },
     "execution_count": 18,
     "metadata": {},
     "output_type": "execute_result"
    },
    {
     "data": {
      "image/png": "[encoded data removed]",
      "text/plain": [
       "<Figure size 432x288 with 1 Axes>"
      ]
     },
     "metadata": {
      "needs_background": "light"
     },
     "output_type": "display_data"
    }
   ],
   "source": [
    "rfc_best.fit(Xtrain, ytrain)\n",
    "rfc_features = pd.DataFrame(Xtrain.columns, columns = ['feature'])\n",
    "rfc_features['importance'] = rfc_best.feature_importances_\n",
    "rfc_features_df = rfc_features.sort_values(by = 'importance', ascending = False).head(10)\n",
    "rfc_features_df.plot(x = 'feature',kind = 'bar')"
   ]
  },
  {
   "cell_type": "markdown",
   "metadata": {},
   "source": [
    "## Soft Voting"
   ]
  },
  {
   "cell_type": "code",
   "execution_count": 19,
   "metadata": {
    "ExecuteTime": {
     "end_time": "2022-02-08T06:02:55.844859Z",
     "start_time": "2022-02-08T06:02:05.535923Z"
    },
    "scrolled": true
   },
   "outputs": [
    {
     "data": {
      "text/plain": [
       "VotingClassifier(estimators=[('RF',\n",
       "                              RandomForestClassifier(max_depth=100,\n",
       "                                                     n_estimators=200,\n",
       "                                                     random_state=42)),\n",
       "                             ('XGB',\n",
       "                              XGBClassifier(base_score=0.5, booster='gbtree',\n",
       "                                            colsample_bylevel=1,\n",
       "                                            colsample_bynode=1,\n",
       "                                            colsample_bytree=1, gamma=0,\n",
       "                                            gpu_id=-1, importance_type='gain',\n",
       "                                            interaction_constraints='',\n",
       "                                            learning_rate=0.300000012,\n",
       "                                            max_delta_step=0, max_depth=7,\n",
       "                                            min_child_weight=1, missing=nan,\n",
       "                                            monotone_constraints='()',\n",
       "                                            n_estimators=200, n_jobs=8,\n",
       "                                            num_parallel_tree=1,\n",
       "                                            objective='binary:logitraw',\n",
       "                                            random_state=42, reg_alpha=0,\n",
       "                                            reg_lambda=1, scale_pos_weight=1,\n",
       "                                            subsample=1, tree_method='exact',\n",
       "                                            validate_parameters=1,\n",
       "                                            verbosity=None)),\n",
       "                             ('BAG',\n",
       "                              BaggingClassifier(max_features=30,\n",
       "                                                random_state=42))],\n",
       "                 flatten_transform=False, voting='soft')"
      ]
     },
     "execution_count": 19,
     "metadata": {},
     "output_type": "execute_result"
    },
    {
     "name": "stdout",
     "output_type": "stream",
     "text": [
      "Train Accuracy: 0.9861301571131921 Precision: 0.9739495798319328 Recall: 0.9989813508854412 F1: 0.9863066687296921\n"
     ]
    }
   ],
   "source": [
    "folds = StratifiedKFold(n_splits=5, shuffle=True, random_state=42)\n",
    "voting_clf_param =[('RF', rfc_best),('XGB', xgb_best),('BAG', bagging_best)]\n",
    "vote_best = VotingClassifier(estimators=voting_clf_param, voting='soft',flatten_transform=False)\n",
    "vote_best.fit(Xtrain, ytrain)\n",
    "\n",
    "ypred = cross_val_predict(vote_best, Xtrain, ytrain, cv=folds)\n",
    "vote_accuracy = accuracy_score(ytrain,ypred)\n",
    "vote_precision = precision_score(ytrain,ypred)\n",
    "vote_recall = recall_score(ytrain,ypred)\n",
    "vote_f1 = f1_score(ytrain,ypred)\n",
    "print('Train Accuracy:',vote_accuracy,\n",
    "                     'Precision:',vote_precision,\n",
    "                     'Recall:',vote_recall,\n",
    "                     'F1:', vote_f1)\n",
    "\n",
    "#Train Accuracy: 0.8103067484662577 \n",
    "# Precision: 0.8242245199409158 \n",
    "#Recall: 0.8009569377990431 \n",
    "#F1: 0.812424168891046"
   ]
  },
  {
   "cell_type": "code",
   "execution_count": 20,
   "metadata": {
    "ExecuteTime": {
     "end_time": "2022-02-08T06:03:06.231882Z",
     "start_time": "2022-02-08T06:02:55.847146Z"
    }
   },
   "outputs": [
    {
     "data": {
      "text/plain": [
       "VotingClassifier(estimators=[('RF',\n",
       "                              RandomForestClassifier(max_depth=100,\n",
       "                                                     n_estimators=200,\n",
       "                                                     random_state=42)),\n",
       "                             ('XGB',\n",
       "                              XGBClassifier(base_score=0.5, booster='gbtree',\n",
       "                                            colsample_bylevel=1,\n",
       "                                            colsample_bynode=1,\n",
       "                                            colsample_bytree=1, gamma=0,\n",
       "                                            gpu_id=-1, importance_type='gain',\n",
       "                                            interaction_constraints='',\n",
       "                                            learning_rate=0.300000012,\n",
       "                                            max_delta_step=0, max_depth=7,\n",
       "                                            min_child_weight=1, missing=nan,\n",
       "                                            monotone_constraints='()',\n",
       "                                            n_estimators=200, n_jobs=8,\n",
       "                                            num_parallel_tree=1,\n",
       "                                            objective='binary:logitraw',\n",
       "                                            random_state=42, reg_alpha=0,\n",
       "                                            reg_lambda=1, scale_pos_weight=1,\n",
       "                                            subsample=1, tree_method='exact',\n",
       "                                            validate_parameters=1,\n",
       "                                            verbosity=None)),\n",
       "                             ('BAG',\n",
       "                              BaggingClassifier(max_features=30,\n",
       "                                                random_state=42))],\n",
       "                 flatten_transform=False, voting='soft')"
      ]
     },
     "execution_count": 20,
     "metadata": {},
     "output_type": "execute_result"
    },
    {
     "name": "stdout",
     "output_type": "stream",
     "text": [
      "Train Accuracy: 0.9871493496317192 Precision: 0.9749388753056235 Recall: 1.0 F1: 0.9873104302073662\n"
     ]
    }
   ],
   "source": [
    "folds = StratifiedKFold(n_splits=5, shuffle=True, random_state=42)\n",
    "voting_clf_param =[('RF', rfc_best),('XGB', xgb_best),('BAG', bagging_best)]\n",
    "vote_best_test = VotingClassifier(estimators=voting_clf_param, voting='soft',flatten_transform=False)\n",
    "vote_best_test.fit(Xtrain, ytrain)\n",
    "ypred = vote_best_test.predict(Xtest1)\n",
    "#ypred = cross_val_predict(vote_best, Xtrain, ytrain, cv=folds)\n",
    "\n",
    "vote_accuracy = accuracy_score(ytest1,ypred)\n",
    "vote_precision = precision_score(ytest1,ypred)\n",
    "vote_recall = recall_score(ytest1,ypred)\n",
    "vote_f1 = f1_score(ytest1,ypred)\n",
    "\n",
    "print('Train Accuracy:',vote_accuracy,\n",
    "                     'Precision:',vote_precision,\n",
    "                     'Recall:',vote_recall,\n",
    "                     'F1:', vote_f1)\n",
    "\n",
    "#Train Accuracy: 0.8103067484662577 \n",
    "# Precision: 0.8242245199409158 \n",
    "#Recall: 0.8009569377990431 \n",
    "#F1: 0.812424168891046"
   ]
  },
  {
   "cell_type": "code",
   "execution_count": 21,
   "metadata": {
    "ExecuteTime": {
     "end_time": "2022-02-08T06:03:07.808531Z",
     "start_time": "2022-02-08T06:03:06.234383Z"
    }
   },
   "outputs": [
    {
     "name": "stdout",
     "output_type": "stream",
     "text": [
      "Train Accuracy: 0.9750702785586507 Precision: 0.710405224877542 Recall: 1.0 F1: 0.8306864531805953\n"
     ]
    }
   ],
   "source": [
    "ypred = vote_best_test.predict(Xtest)\n",
    "#cross_val_predict(vote_best,Xtest1, ytest1, cv=folds)\n",
    "\n",
    "vote_accuracy = accuracy_score(ytest,ypred)\n",
    "vote_precision = precision_score(ytest,ypred)\n",
    "vote_recall = recall_score(ytest,ypred)\n",
    "vote_f1 = f1_score(ytest,ypred)\n",
    "\n",
    "print('Train Accuracy:',vote_accuracy,\n",
    "                     'Precision:',vote_precision,\n",
    "                     'Recall:',vote_recall,\n",
    "                     'F1:', vote_f1)\n",
    "\n",
    "#Train Accuracy: 0.8103067484662577 \n",
    "# Precision: 0.8242245199409158 \n",
    "#Recall: 0.8009569377990431 \n",
    "#F1: 0.812424168891046"
   ]
  },
  {
   "cell_type": "code",
   "execution_count": null,
   "metadata": {},
   "outputs": [],
   "source": []
  },
  {
   "cell_type": "code",
   "execution_count": 22,
   "metadata": {
    "ExecuteTime": {
     "end_time": "2022-02-08T06:03:09.513330Z",
     "start_time": "2022-02-08T06:03:07.811241Z"
    },
    "scrolled": true
   },
   "outputs": [
    {
     "data": {
      "text/plain": [
       "<AxesSubplot:>"
      ]
     },
     "execution_count": 22,
     "metadata": {},
     "output_type": "execute_result"
    },
    {
     "data": {
      "text/plain": [
       "Text(0.5, 1.0, 'Confusion Matrix')"
      ]
     },
     "execution_count": 22,
     "metadata": {},
     "output_type": "execute_result"
    },
    {
     "data": {
      "text/plain": [
       "Text(0.5, 15.0, 'Predicted')"
      ]
     },
     "execution_count": 22,
     "metadata": {},
     "output_type": "execute_result"
    },
    {
     "data": {
      "text/plain": [
       "Text(33.0, 0.5, 'Actual')"
      ]
     },
     "execution_count": 22,
     "metadata": {},
     "output_type": "execute_result"
    },
    {
     "data": {
      "image/png": "[encoded data removed]",
      "text/plain": [
       "<Figure size 432x288 with 2 Axes>"
      ]
     },
     "metadata": {
      "needs_background": "light"
     },
     "output_type": "display_data"
    }
   ],
   "source": [
    "# Confusion Matrix\n",
    "confusion = metrics.confusion_matrix(ytest, vote_best_test.predict(Xtest))\n",
    "\n",
    "# [row, column]\n",
    "TP = confusion[1, 1]\n",
    "TN = confusion[0, 0]\n",
    "FP = confusion[0, 1]\n",
    "FN = confusion[1, 0]\n",
    "\n",
    "# Plot Confusion Matrix\n",
    "sns.heatmap(confusion, annot=True, fmt=\"d\")\n",
    "plt.title('Confusion Matrix')\n",
    "plt.xlabel('Predicted')\n",
    "plt.ylabel('Actual')\n",
    "plt.show()"
   ]
  },
  {
   "cell_type": "code",
   "execution_count": 23,
   "metadata": {
    "ExecuteTime": {
     "end_time": "2022-02-08T06:03:10.413420Z",
     "start_time": "2022-02-08T06:03:09.515673Z"
    }
   },
   "outputs": [
    {
     "data": {
      "text/plain": [
       "<AxesSubplot:>"
      ]
     },
     "execution_count": 23,
     "metadata": {},
     "output_type": "execute_result"
    },
    {
     "data": {
      "text/plain": [
       "Text(0.5, 1.0, 'Confusion Matrix')"
      ]
     },
     "execution_count": 23,
     "metadata": {},
     "output_type": "execute_result"
    },
    {
     "data": {
      "text/plain": [
       "Text(0.5, 15.0, 'Predicted')"
      ]
     },
     "execution_count": 23,
     "metadata": {},
     "output_type": "execute_result"
    },
    {
     "data": {
      "text/plain": [
       "Text(33.0, 0.5, 'Actual')"
      ]
     },
     "execution_count": 23,
     "metadata": {},
     "output_type": "execute_result"
    },
    {
     "data": {
      "image/png": "[encoded data removed]",
      "text/plain": [
       "<Figure size 432x288 with 2 Axes>"
      ]
     },
     "metadata": {
      "needs_background": "light"
     },
     "output_type": "display_data"
    }
   ],
   "source": [
    "# Confusion Matrix\n",
    "confusion = metrics.confusion_matrix(ytrain, vote_best_test.predict(Xtrain))\n",
    "\n",
    "# [row, column]\n",
    "TP = confusion[1, 1]\n",
    "TN = confusion[0, 0]\n",
    "FP = confusion[0, 1]\n",
    "FN = confusion[1, 0]\n",
    "\n",
    "# Plot Confusion Matrix\n",
    "sns.heatmap(confusion, annot=True, fmt=\"d\")\n",
    "plt.title('Confusion Matrix')\n",
    "plt.xlabel('Predicted')\n",
    "plt.ylabel('Actual')\n",
    "plt.show()"
   ]
  },
  {
   "cell_type": "markdown",
   "metadata": {},
   "source": [
    "## ROC Curve"
   ]
  },
  {
   "cell_type": "code",
   "execution_count": 24,
   "metadata": {
    "ExecuteTime": {
     "end_time": "2022-02-08T06:03:10.420573Z",
     "start_time": "2022-02-08T06:03:10.415916Z"
    }
   },
   "outputs": [],
   "source": [
    "def plot_roc_curve(fpr, tpr, label=None):\n",
    "    plt.plot(fpr, tpr, linewidth=2, label=label, color='#295D7F')\n",
    "    plt.plot([0, 1], [0, 1], 'k--', color='grey')\n",
    "    \n",
    "    plt.axis([-0.01, 1.05, -0.01, 1.05])\n",
    "    plt.xlabel('False Positive Rate', fontsize=12, color='#383838')\n",
    "    plt.ylabel('True Positive Rate', fontsize=12, color='#383838')\n"
   ]
  },
  {
   "cell_type": "code",
   "execution_count": 25,
   "metadata": {
    "ExecuteTime": {
     "end_time": "2022-02-08T06:03:12.050353Z",
     "start_time": "2022-02-08T06:03:10.423575Z"
    }
   },
   "outputs": [
    {
     "data": {
      "text/plain": [
       "<Figure size 576x288 with 0 Axes>"
      ]
     },
     "execution_count": 25,
     "metadata": {},
     "output_type": "execute_result"
    },
    {
     "data": {
      "image/png": "[encoded data removed]",
      "text/plain": [
       "<Figure size 576x288 with 1 Axes>"
      ]
     },
     "metadata": {
      "needs_background": "light"
     },
     "output_type": "display_data"
    }
   ],
   "source": [
    "#calculate prediction probability\n",
    "y_pred_proba = vote_best_test.predict_proba(Xtest)[::,1]\n",
    "#set true and false predictions\n",
    "fpr, tpr, _ = roc_curve(ytest, y_pred_proba)\n",
    "\n",
    "#plot actual graph\n",
    "plt.figure(figsize=(8, 4))\n",
    "plot_roc_curve(fpr, tpr)\n",
    "plt.show()"
   ]
  },
  {
   "cell_type": "markdown",
   "metadata": {},
   "source": [
    "## Learning Curve"
   ]
  },
  {
   "cell_type": "code",
   "execution_count": 26,
   "metadata": {
    "ExecuteTime": {
     "end_time": "2022-02-08T06:03:12.235937Z",
     "start_time": "2022-02-08T06:03:12.053083Z"
    }
   },
   "outputs": [],
   "source": [
    "from sklearn.model_selection import learning_curve \n",
    "import numpy as np\n",
    "\n",
    "# Draw a learning curve\n",
    "\n",
    "def plot_learning(estimator, title, X, y, ylim=None, cv=None,\n",
    "                        n_jobs=1, train_sizes=np.linspace(.6, 1.0, 5)):\n",
    "    plt.figure()\n",
    "    plt.title(title)\n",
    "    if ylim is not None:\n",
    "        plt.ylim(*ylim)\n",
    "    plt.xlabel(\"Training examples\")\n",
    "    plt.ylabel(\"Score\")\n",
    "    train_sizes, train_scores, test_scores = learning_curve(estimator, X, y, cv=cv, n_jobs=n_jobs, train_sizes=train_sizes)\n",
    "    train_scores_mean = np.mean(train_scores, axis=1)\n",
    "    train_scores_std = np.std(train_scores, axis=1)\n",
    "    test_scores_mean = np.mean(test_scores, axis=1)\n",
    "    test_scores_std = np.std(test_scores, axis=1)\n",
    "    plt.grid()\n",
    "    plt.fill_between(train_sizes, train_scores_mean - train_scores_std,\n",
    "                     train_scores_mean + train_scores_std, alpha=0.1,\n",
    "                     color=\"r\")\n",
    "    plt.fill_between(train_sizes, test_scores_mean - test_scores_std,\n",
    "                     test_scores_mean + test_scores_std, alpha=0.1, color=\"g\")\n",
    "    plt.plot(train_sizes, train_scores_mean, 'o-', color=\"r\",\n",
    "             label=\"Training score\")\n",
    "    plt.plot(train_sizes, test_scores_mean, 'o-', color=\"g\",\n",
    "             label=\"Cross-validation score\")\n",
    "\n",
    "    plt.legend(loc=\"best\")\n",
    "    return plt"
   ]
  },
  {
   "cell_type": "code",
   "execution_count": 27,
   "metadata": {
    "ExecuteTime": {
     "end_time": "2022-02-08T06:06:02.804913Z",
     "start_time": "2022-02-08T06:03:12.238691Z"
    }
   },
   "outputs": [
    {
     "data": {
      "text/plain": [
       "<module 'matplotlib.pyplot' from '/Users/macbook/opt/anaconda3/lib/python3.8/site-packages/matplotlib/pyplot.py'>"
      ]
     },
     "execution_count": 27,
     "metadata": {},
     "output_type": "execute_result"
    },
    {
     "data": {
      "image/png": "[encoded data removed]",
      "text/plain": [
       "<Figure size 432x288 with 1 Axes>"
      ]
     },
     "metadata": {
      "needs_background": "light"
     },
     "output_type": "display_data"
    }
   ],
   "source": [
    "plot_learning(vote_best_test, \"{}\".format(\"soft voting\"), X=Xtrain,y=ytrain,ylim=None)"
   ]
  }
 ],
 "metadata": {
  "kernelspec": {
   "display_name": "Python 3",
   "language": "python",
   "name": "python3"
  }
 },
 "nbformat": 4,
 "nbformat_minor": 4
}
