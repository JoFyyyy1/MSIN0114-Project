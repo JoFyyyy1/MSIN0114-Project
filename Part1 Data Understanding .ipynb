{
 "cells": [
  {
   "cell_type": "code",
   "execution_count": 1,
   "metadata": {
    "ExecuteTime": {
     "end_time": "2022-02-07T15:43:57.333301Z",
     "start_time": "2022-02-07T15:43:57.329646Z"
    }
   },
   "outputs": [],
   "source": [
    "from IPython.core.interactiveshell import InteractiveShell\n",
    "InteractiveShell.ast_node_interactivity = \"all\""
   ]
  },
  {
   "cell_type": "code",
   "execution_count": 2,
   "metadata": {
    "ExecuteTime": {
     "end_time": "2022-02-07T15:43:57.342117Z",
     "start_time": "2022-02-07T15:43:57.336103Z"
    }
   },
   "outputs": [],
   "source": [
    "# Ignore the warnings\n",
    "import warnings\n",
    "warnings.filterwarnings('always')\n",
    "warnings.filterwarnings('ignore')"
   ]
  },
  {
   "cell_type": "code",
   "execution_count": 3,
   "metadata": {
    "ExecuteTime": {
     "end_time": "2022-02-07T15:44:00.249512Z",
     "start_time": "2022-02-07T15:43:57.345873Z"
    }
   },
   "outputs": [],
   "source": [
    "# Importing various modules for data visualisation and manipulation\n",
    "import numpy as np\n",
    "import pandas as pd \n",
    "from csv import reader\n",
    "from pandas import Series, DataFrame\n",
    "from sklearn.model_selection import train_test_split\n",
    "import matplotlib.pyplot as plt \n",
    "from matplotlib import style\n",
    "import seaborn as sns\n",
    "import glob\n",
    "import collections\n",
    "import networkx as nx\n",
    "import random"
   ]
  },
  {
   "cell_type": "markdown",
   "metadata": {},
   "source": [
    "\n",
    "\n",
    "## 2. Data Understanding\n",
    "\n"
   ]
  },
  {
   "cell_type": "code",
   "execution_count": 4,
   "metadata": {
    "ExecuteTime": {
     "end_time": "2022-02-07T15:44:00.334219Z",
     "start_time": "2022-02-07T15:44:00.252165Z"
    }
   },
   "outputs": [
    {
     "data": {
      "text/html": [
       "<div>\n",
       "<style scoped>\n",
       "    .dataframe tbody tr th:only-of-type {\n",
       "        vertical-align: middle;\n",
       "    }\n",
       "\n",
       "    .dataframe tbody tr th {\n",
       "        vertical-align: top;\n",
       "    }\n",
       "\n",
       "    .dataframe thead th {\n",
       "        text-align: right;\n",
       "    }\n",
       "</style>\n",
       "<table border=\"1\" class=\"dataframe\">\n",
       "  <thead>\n",
       "    <tr style=\"text-align: right;\">\n",
       "      <th></th>\n",
       "      <th>user_id</th>\n",
       "      <th>merchant_id</th>\n",
       "      <th>label</th>\n",
       "    </tr>\n",
       "  </thead>\n",
       "  <tbody>\n",
       "    <tr>\n",
       "      <th>0</th>\n",
       "      <td>34176</td>\n",
       "      <td>3906</td>\n",
       "      <td>0</td>\n",
       "    </tr>\n",
       "    <tr>\n",
       "      <th>1</th>\n",
       "      <td>34176</td>\n",
       "      <td>121</td>\n",
       "      <td>0</td>\n",
       "    </tr>\n",
       "    <tr>\n",
       "      <th>2</th>\n",
       "      <td>34176</td>\n",
       "      <td>4356</td>\n",
       "      <td>1</td>\n",
       "    </tr>\n",
       "    <tr>\n",
       "      <th>3</th>\n",
       "      <td>34176</td>\n",
       "      <td>2217</td>\n",
       "      <td>0</td>\n",
       "    </tr>\n",
       "    <tr>\n",
       "      <th>4</th>\n",
       "      <td>230784</td>\n",
       "      <td>4818</td>\n",
       "      <td>0</td>\n",
       "    </tr>\n",
       "  </tbody>\n",
       "</table>\n",
       "</div>"
      ],
      "text/plain": [
       "   user_id  merchant_id  label\n",
       "0    34176         3906      0\n",
       "1    34176          121      0\n",
       "2    34176         4356      1\n",
       "3    34176         2217      0\n",
       "4   230784         4818      0"
      ]
     },
     "execution_count": 4,
     "metadata": {},
     "output_type": "execute_result"
    }
   ],
   "source": [
    "result = pd.read_csv('./data/train_format1.csv')\n",
    "result.head()\n",
    "#'user_id', 'merchant_id', 'label'"
   ]
  },
  {
   "cell_type": "code",
   "execution_count": 5,
   "metadata": {
    "ExecuteTime": {
     "end_time": "2022-02-07T15:44:00.340451Z",
     "start_time": "2022-02-07T15:44:00.336258Z"
    }
   },
   "outputs": [
    {
     "data": {
      "text/plain": [
       "(260864, 3)"
      ]
     },
     "execution_count": 5,
     "metadata": {},
     "output_type": "execute_result"
    }
   ],
   "source": [
    "result.shape"
   ]
  },
  {
   "cell_type": "code",
   "execution_count": 6,
   "metadata": {
    "ExecuteTime": {
     "end_time": "2022-02-07T15:44:00.371669Z",
     "start_time": "2022-02-07T15:44:00.342657Z"
    }
   },
   "outputs": [
    {
     "data": {
      "text/plain": [
       "{0, 1}"
      ]
     },
     "execution_count": 6,
     "metadata": {},
     "output_type": "execute_result"
    }
   ],
   "source": [
    "set(result.label)"
   ]
  },
  {
   "cell_type": "code",
   "execution_count": 7,
   "metadata": {
    "ExecuteTime": {
     "end_time": "2022-02-07T15:44:00.611075Z",
     "start_time": "2022-02-07T15:44:00.375495Z"
    }
   },
   "outputs": [
    {
     "data": {
      "text/html": [
       "<div>\n",
       "<style scoped>\n",
       "    .dataframe tbody tr th:only-of-type {\n",
       "        vertical-align: middle;\n",
       "    }\n",
       "\n",
       "    .dataframe tbody tr th {\n",
       "        vertical-align: top;\n",
       "    }\n",
       "\n",
       "    .dataframe thead th {\n",
       "        text-align: right;\n",
       "    }\n",
       "</style>\n",
       "<table border=\"1\" class=\"dataframe\">\n",
       "  <thead>\n",
       "    <tr style=\"text-align: right;\">\n",
       "      <th></th>\n",
       "      <th>user_id</th>\n",
       "      <th>merchant_id</th>\n",
       "      <th>label</th>\n",
       "      <th>id</th>\n",
       "    </tr>\n",
       "  </thead>\n",
       "  <tbody>\n",
       "    <tr>\n",
       "      <th>0</th>\n",
       "      <td>34176</td>\n",
       "      <td>3906</td>\n",
       "      <td>0</td>\n",
       "      <td>34176_3906</td>\n",
       "    </tr>\n",
       "    <tr>\n",
       "      <th>1</th>\n",
       "      <td>34176</td>\n",
       "      <td>121</td>\n",
       "      <td>0</td>\n",
       "      <td>34176_121</td>\n",
       "    </tr>\n",
       "    <tr>\n",
       "      <th>2</th>\n",
       "      <td>34176</td>\n",
       "      <td>4356</td>\n",
       "      <td>1</td>\n",
       "      <td>34176_4356</td>\n",
       "    </tr>\n",
       "    <tr>\n",
       "      <th>3</th>\n",
       "      <td>34176</td>\n",
       "      <td>2217</td>\n",
       "      <td>0</td>\n",
       "      <td>34176_2217</td>\n",
       "    </tr>\n",
       "    <tr>\n",
       "      <th>4</th>\n",
       "      <td>230784</td>\n",
       "      <td>4818</td>\n",
       "      <td>0</td>\n",
       "      <td>230784_4818</td>\n",
       "    </tr>\n",
       "    <tr>\n",
       "      <th>...</th>\n",
       "      <td>...</td>\n",
       "      <td>...</td>\n",
       "      <td>...</td>\n",
       "      <td>...</td>\n",
       "    </tr>\n",
       "    <tr>\n",
       "      <th>260859</th>\n",
       "      <td>359807</td>\n",
       "      <td>4325</td>\n",
       "      <td>0</td>\n",
       "      <td>359807_4325</td>\n",
       "    </tr>\n",
       "    <tr>\n",
       "      <th>260860</th>\n",
       "      <td>294527</td>\n",
       "      <td>3971</td>\n",
       "      <td>0</td>\n",
       "      <td>294527_3971</td>\n",
       "    </tr>\n",
       "    <tr>\n",
       "      <th>260861</th>\n",
       "      <td>294527</td>\n",
       "      <td>152</td>\n",
       "      <td>0</td>\n",
       "      <td>294527_152</td>\n",
       "    </tr>\n",
       "    <tr>\n",
       "      <th>260862</th>\n",
       "      <td>294527</td>\n",
       "      <td>2537</td>\n",
       "      <td>0</td>\n",
       "      <td>294527_2537</td>\n",
       "    </tr>\n",
       "    <tr>\n",
       "      <th>260863</th>\n",
       "      <td>229247</td>\n",
       "      <td>4140</td>\n",
       "      <td>0</td>\n",
       "      <td>229247_4140</td>\n",
       "    </tr>\n",
       "  </tbody>\n",
       "</table>\n",
       "<p>260864 rows × 4 columns</p>\n",
       "</div>"
      ],
      "text/plain": [
       "        user_id  merchant_id  label           id\n",
       "0         34176         3906      0   34176_3906\n",
       "1         34176          121      0    34176_121\n",
       "2         34176         4356      1   34176_4356\n",
       "3         34176         2217      0   34176_2217\n",
       "4        230784         4818      0  230784_4818\n",
       "...         ...          ...    ...          ...\n",
       "260859   359807         4325      0  359807_4325\n",
       "260860   294527         3971      0  294527_3971\n",
       "260861   294527          152      0   294527_152\n",
       "260862   294527         2537      0  294527_2537\n",
       "260863   229247         4140      0  229247_4140\n",
       "\n",
       "[260864 rows x 4 columns]"
      ]
     },
     "execution_count": 7,
     "metadata": {},
     "output_type": "execute_result"
    }
   ],
   "source": [
    "result['id'] = result['user_id'].map(str) + '_'  + result['merchant_id'].map(str)\n",
    "result"
   ]
  },
  {
   "cell_type": "code",
   "execution_count": 8,
   "metadata": {
    "ExecuteTime": {
     "end_time": "2022-02-07T15:44:00.680666Z",
     "start_time": "2022-02-07T15:44:00.615047Z"
    }
   },
   "outputs": [
    {
     "data": {
      "text/plain": [
       "260864"
      ]
     },
     "execution_count": 8,
     "metadata": {},
     "output_type": "execute_result"
    }
   ],
   "source": [
    "len(set(result['id']))"
   ]
  },
  {
   "cell_type": "code",
   "execution_count": 9,
   "metadata": {
    "ExecuteTime": {
     "end_time": "2022-02-07T15:44:00.706427Z",
     "start_time": "2022-02-07T15:44:00.685043Z"
    }
   },
   "outputs": [
    {
     "name": "stdout",
     "output_type": "stream",
     "text": [
      "<class 'pandas.core.frame.DataFrame'>\n",
      "RangeIndex: 260864 entries, 0 to 260863\n",
      "Data columns (total 4 columns):\n",
      " #   Column       Non-Null Count   Dtype \n",
      "---  ------       --------------   ----- \n",
      " 0   user_id      260864 non-null  int64 \n",
      " 1   merchant_id  260864 non-null  int64 \n",
      " 2   label        260864 non-null  int64 \n",
      " 3   id           260864 non-null  object\n",
      "dtypes: int64(3), object(1)\n",
      "memory usage: 8.0+ MB\n"
     ]
    }
   ],
   "source": [
    "result.info()"
   ]
  },
  {
   "cell_type": "code",
   "execution_count": 10,
   "metadata": {
    "ExecuteTime": {
     "end_time": "2022-02-07T15:44:00.727347Z",
     "start_time": "2022-02-07T15:44:00.709377Z"
    }
   },
   "outputs": [
    {
     "data": {
      "text/plain": [
       "user_id        0.0\n",
       "merchant_id    0.0\n",
       "label          0.0\n",
       "id             0.0\n",
       "dtype: float64"
      ]
     },
     "execution_count": 10,
     "metadata": {},
     "output_type": "execute_result"
    }
   ],
   "source": [
    "# the missing value proportion of each columns in this table.\n",
    "result.isnull().sum()/result.shape[0]"
   ]
  },
  {
   "cell_type": "code",
   "execution_count": 11,
   "metadata": {
    "ExecuteTime": {
     "end_time": "2022-02-07T15:44:01.021154Z",
     "start_time": "2022-02-07T15:44:00.729837Z"
    }
   },
   "outputs": [
    {
     "name": "stdout",
     "output_type": "stream",
     "text": [
      "Label Distribution： \n",
      " label\n",
      "0    244912\n",
      "1     15952\n",
      "Name: user_id, dtype: int64\n"
     ]
    },
    {
     "data": {
      "text/plain": [
       "<AxesSubplot:ylabel='label'>"
      ]
     },
     "execution_count": 11,
     "metadata": {},
     "output_type": "execute_result"
    },
    {
     "data": {
      "text/plain": [
       "<AxesSubplot:xlabel='label', ylabel='count'>"
      ]
     },
     "execution_count": 11,
     "metadata": {},
     "output_type": "execute_result"
    },
    {
     "data": {
      "image/png": "[encoded data removed]",
      "text/plain": [
       "<Figure size 864x432 with 2 Axes>"
      ]
     },
     "metadata": {
      "needs_background": "light"
     },
     "output_type": "display_data"
    }
   ],
   "source": [
    "label_gp = result.groupby('label')['user_id'].count()\n",
    "print('Label Distribution： \\n',label_gp)\n",
    "_,axe = plt.subplots(1,2,figsize=(12,6))\n",
    "result.label.value_counts().plot(kind='pie',autopct='%1.1f%%',shadow = True,explode = [0,0.1],ax= axe[0])\n",
    "sns.countplot('label',data=result,ax=axe[1],)"
   ]
  },
  {
   "cell_type": "markdown",
   "metadata": {},
   "source": [
    "## User Log"
   ]
  },
  {
   "cell_type": "code",
   "execution_count": 12,
   "metadata": {
    "ExecuteTime": {
     "end_time": "2022-02-07T15:44:24.424626Z",
     "start_time": "2022-02-07T15:44:01.022974Z"
    }
   },
   "outputs": [
    {
     "data": {
      "text/html": [
       "<div>\n",
       "<style scoped>\n",
       "    .dataframe tbody tr th:only-of-type {\n",
       "        vertical-align: middle;\n",
       "    }\n",
       "\n",
       "    .dataframe tbody tr th {\n",
       "        vertical-align: top;\n",
       "    }\n",
       "\n",
       "    .dataframe thead th {\n",
       "        text-align: right;\n",
       "    }\n",
       "</style>\n",
       "<table border=\"1\" class=\"dataframe\">\n",
       "  <thead>\n",
       "    <tr style=\"text-align: right;\">\n",
       "      <th></th>\n",
       "      <th>user_id</th>\n",
       "      <th>item_id</th>\n",
       "      <th>cat_id</th>\n",
       "      <th>seller_id</th>\n",
       "      <th>brand_id</th>\n",
       "      <th>time_stamp</th>\n",
       "      <th>action_type</th>\n",
       "    </tr>\n",
       "  </thead>\n",
       "  <tbody>\n",
       "    <tr>\n",
       "      <th>0</th>\n",
       "      <td>328862</td>\n",
       "      <td>323294</td>\n",
       "      <td>833</td>\n",
       "      <td>2882</td>\n",
       "      <td>2661.0</td>\n",
       "      <td>829</td>\n",
       "      <td>0</td>\n",
       "    </tr>\n",
       "    <tr>\n",
       "      <th>1</th>\n",
       "      <td>328862</td>\n",
       "      <td>844400</td>\n",
       "      <td>1271</td>\n",
       "      <td>2882</td>\n",
       "      <td>2661.0</td>\n",
       "      <td>829</td>\n",
       "      <td>0</td>\n",
       "    </tr>\n",
       "    <tr>\n",
       "      <th>2</th>\n",
       "      <td>328862</td>\n",
       "      <td>575153</td>\n",
       "      <td>1271</td>\n",
       "      <td>2882</td>\n",
       "      <td>2661.0</td>\n",
       "      <td>829</td>\n",
       "      <td>0</td>\n",
       "    </tr>\n",
       "    <tr>\n",
       "      <th>3</th>\n",
       "      <td>328862</td>\n",
       "      <td>996875</td>\n",
       "      <td>1271</td>\n",
       "      <td>2882</td>\n",
       "      <td>2661.0</td>\n",
       "      <td>829</td>\n",
       "      <td>0</td>\n",
       "    </tr>\n",
       "    <tr>\n",
       "      <th>4</th>\n",
       "      <td>328862</td>\n",
       "      <td>1086186</td>\n",
       "      <td>1271</td>\n",
       "      <td>1253</td>\n",
       "      <td>1049.0</td>\n",
       "      <td>829</td>\n",
       "      <td>0</td>\n",
       "    </tr>\n",
       "  </tbody>\n",
       "</table>\n",
       "</div>"
      ],
      "text/plain": [
       "   user_id  item_id  cat_id  seller_id  brand_id  time_stamp  action_type\n",
       "0   328862   323294     833       2882    2661.0         829            0\n",
       "1   328862   844400    1271       2882    2661.0         829            0\n",
       "2   328862   575153    1271       2882    2661.0         829            0\n",
       "3   328862   996875    1271       2882    2661.0         829            0\n",
       "4   328862  1086186    1271       1253    1049.0         829            0"
      ]
     },
     "execution_count": 12,
     "metadata": {},
     "output_type": "execute_result"
    }
   ],
   "source": [
    "#load user log information\n",
    "user_behaviour = pd.read_csv('./data/user_log_format1.csv') #cover the content of user_info_format1 \n",
    "user_behaviour.head()\n",
    "#contains users both in train set and test set\n",
    "# ['user_id', 'item_id', 'cat_id', 'seller_id', 'brand_id', 'time_stamp','action_type']"
   ]
  },
  {
   "cell_type": "code",
   "execution_count": 13,
   "metadata": {
    "ExecuteTime": {
     "end_time": "2022-02-07T15:44:24.430819Z",
     "start_time": "2022-02-07T15:44:24.426814Z"
    }
   },
   "outputs": [
    {
     "data": {
      "text/plain": [
       "(54925330, 7)"
      ]
     },
     "execution_count": 13,
     "metadata": {},
     "output_type": "execute_result"
    }
   ],
   "source": [
    "user_behaviour.shape"
   ]
  },
  {
   "cell_type": "code",
   "execution_count": 14,
   "metadata": {
    "ExecuteTime": {
     "end_time": "2022-02-07T15:44:24.444841Z",
     "start_time": "2022-02-07T15:44:24.432863Z"
    }
   },
   "outputs": [
    {
     "name": "stdout",
     "output_type": "stream",
     "text": [
      "<class 'pandas.core.frame.DataFrame'>\n",
      "RangeIndex: 54925330 entries, 0 to 54925329\n",
      "Data columns (total 7 columns):\n",
      " #   Column       Dtype  \n",
      "---  ------       -----  \n",
      " 0   user_id      int64  \n",
      " 1   item_id      int64  \n",
      " 2   cat_id       int64  \n",
      " 3   seller_id    int64  \n",
      " 4   brand_id     float64\n",
      " 5   time_stamp   int64  \n",
      " 6   action_type  int64  \n",
      "dtypes: float64(1), int64(6)\n",
      "memory usage: 2.9 GB\n"
     ]
    }
   ],
   "source": [
    "user_behaviour.info()"
   ]
  },
  {
   "cell_type": "code",
   "execution_count": 15,
   "metadata": {
    "ExecuteTime": {
     "end_time": "2022-02-07T15:46:30.654079Z",
     "start_time": "2022-02-07T15:44:24.448166Z"
    }
   },
   "outputs": [],
   "source": [
    "#rename the seller_id to stay same 'primary key' with other tables.\n",
    "user_behaviour.rename(columns = {'seller_id':'merchant_id'},inplace = True)\n",
    "user_behaviour['id'] = user_behaviour['user_id'].map(str)+'_'+ user_behaviour['merchant_id'].map(str)\n",
    "#split the shopping month and date from the time_stamp column\n",
    "user_behaviour['month'] = user_behaviour['time_stamp'].apply(lambda x: int(str(x)[:-2]))\n",
    "user_behaviour['date'] = user_behaviour['time_stamp'].apply(lambda x: int(str(x)[-2:]))"
   ]
  },
  {
   "cell_type": "code",
   "execution_count": 16,
   "metadata": {
    "ExecuteTime": {
     "end_time": "2022-02-07T15:46:30.684148Z",
     "start_time": "2022-02-07T15:46:30.658732Z"
    }
   },
   "outputs": [
    {
     "data": {
      "text/html": [
       "<div>\n",
       "<style scoped>\n",
       "    .dataframe tbody tr th:only-of-type {\n",
       "        vertical-align: middle;\n",
       "    }\n",
       "\n",
       "    .dataframe tbody tr th {\n",
       "        vertical-align: top;\n",
       "    }\n",
       "\n",
       "    .dataframe thead th {\n",
       "        text-align: right;\n",
       "    }\n",
       "</style>\n",
       "<table border=\"1\" class=\"dataframe\">\n",
       "  <thead>\n",
       "    <tr style=\"text-align: right;\">\n",
       "      <th></th>\n",
       "      <th>user_id</th>\n",
       "      <th>item_id</th>\n",
       "      <th>cat_id</th>\n",
       "      <th>merchant_id</th>\n",
       "      <th>brand_id</th>\n",
       "      <th>time_stamp</th>\n",
       "      <th>action_type</th>\n",
       "      <th>id</th>\n",
       "      <th>month</th>\n",
       "      <th>date</th>\n",
       "    </tr>\n",
       "  </thead>\n",
       "  <tbody>\n",
       "    <tr>\n",
       "      <th>0</th>\n",
       "      <td>328862</td>\n",
       "      <td>323294</td>\n",
       "      <td>833</td>\n",
       "      <td>2882</td>\n",
       "      <td>2661.0</td>\n",
       "      <td>829</td>\n",
       "      <td>0</td>\n",
       "      <td>328862_2882</td>\n",
       "      <td>8</td>\n",
       "      <td>29</td>\n",
       "    </tr>\n",
       "    <tr>\n",
       "      <th>1</th>\n",
       "      <td>328862</td>\n",
       "      <td>844400</td>\n",
       "      <td>1271</td>\n",
       "      <td>2882</td>\n",
       "      <td>2661.0</td>\n",
       "      <td>829</td>\n",
       "      <td>0</td>\n",
       "      <td>328862_2882</td>\n",
       "      <td>8</td>\n",
       "      <td>29</td>\n",
       "    </tr>\n",
       "    <tr>\n",
       "      <th>2</th>\n",
       "      <td>328862</td>\n",
       "      <td>575153</td>\n",
       "      <td>1271</td>\n",
       "      <td>2882</td>\n",
       "      <td>2661.0</td>\n",
       "      <td>829</td>\n",
       "      <td>0</td>\n",
       "      <td>328862_2882</td>\n",
       "      <td>8</td>\n",
       "      <td>29</td>\n",
       "    </tr>\n",
       "    <tr>\n",
       "      <th>3</th>\n",
       "      <td>328862</td>\n",
       "      <td>996875</td>\n",
       "      <td>1271</td>\n",
       "      <td>2882</td>\n",
       "      <td>2661.0</td>\n",
       "      <td>829</td>\n",
       "      <td>0</td>\n",
       "      <td>328862_2882</td>\n",
       "      <td>8</td>\n",
       "      <td>29</td>\n",
       "    </tr>\n",
       "    <tr>\n",
       "      <th>4</th>\n",
       "      <td>328862</td>\n",
       "      <td>1086186</td>\n",
       "      <td>1271</td>\n",
       "      <td>1253</td>\n",
       "      <td>1049.0</td>\n",
       "      <td>829</td>\n",
       "      <td>0</td>\n",
       "      <td>328862_1253</td>\n",
       "      <td>8</td>\n",
       "      <td>29</td>\n",
       "    </tr>\n",
       "  </tbody>\n",
       "</table>\n",
       "</div>"
      ],
      "text/plain": [
       "   user_id  item_id  cat_id  merchant_id  brand_id  time_stamp  action_type  \\\n",
       "0   328862   323294     833         2882    2661.0         829            0   \n",
       "1   328862   844400    1271         2882    2661.0         829            0   \n",
       "2   328862   575153    1271         2882    2661.0         829            0   \n",
       "3   328862   996875    1271         2882    2661.0         829            0   \n",
       "4   328862  1086186    1271         1253    1049.0         829            0   \n",
       "\n",
       "            id  month  date  \n",
       "0  328862_2882      8    29  \n",
       "1  328862_2882      8    29  \n",
       "2  328862_2882      8    29  \n",
       "3  328862_2882      8    29  \n",
       "4  328862_1253      8    29  "
      ]
     },
     "execution_count": 16,
     "metadata": {},
     "output_type": "execute_result"
    }
   ],
   "source": [
    "user_behaviour.head()"
   ]
  },
  {
   "cell_type": "code",
   "execution_count": 17,
   "metadata": {
    "ExecuteTime": {
     "end_time": "2022-02-07T15:47:04.189455Z",
     "start_time": "2022-02-07T15:46:30.686938Z"
    }
   },
   "outputs": [
    {
     "data": {
      "text/plain": [
       "{1, 2, 3, 4, 5, 6}"
      ]
     },
     "execution_count": 17,
     "metadata": {},
     "output_type": "execute_result"
    }
   ],
   "source": [
    "m = user_behaviour.groupby('item_id').cat_id.nunique()\n",
    "set(m.values)"
   ]
  },
  {
   "cell_type": "code",
   "execution_count": 18,
   "metadata": {
    "ExecuteTime": {
     "end_time": "2022-02-07T15:47:04.203949Z",
     "start_time": "2022-02-07T15:47:04.194247Z"
    }
   },
   "outputs": [
    {
     "data": {
      "text/plain": [
       "item_id\n",
       "37         2\n",
       "144        2\n",
       "350        2\n",
       "621        2\n",
       "1135       2\n",
       "          ..\n",
       "1111983    2\n",
       "1112237    2\n",
       "1112501    2\n",
       "1112670    3\n",
       "1113055    2\n",
       "Name: cat_id, Length: 6645, dtype: int64"
      ]
     },
     "execution_count": 18,
     "metadata": {},
     "output_type": "execute_result"
    }
   ],
   "source": [
    "m[m.values !=1]"
   ]
  },
  {
   "cell_type": "code",
   "execution_count": 19,
   "metadata": {
    "ExecuteTime": {
     "end_time": "2022-02-07T15:47:13.407353Z",
     "start_time": "2022-02-07T15:47:04.206785Z"
    }
   },
   "outputs": [
    {
     "data": {
      "text/html": [
       "<div>\n",
       "<style scoped>\n",
       "    .dataframe tbody tr th:only-of-type {\n",
       "        vertical-align: middle;\n",
       "    }\n",
       "\n",
       "    .dataframe tbody tr th {\n",
       "        vertical-align: top;\n",
       "    }\n",
       "\n",
       "    .dataframe thead th {\n",
       "        text-align: right;\n",
       "    }\n",
       "</style>\n",
       "<table border=\"1\" class=\"dataframe\">\n",
       "  <thead>\n",
       "    <tr style=\"text-align: right;\">\n",
       "      <th></th>\n",
       "      <th>user_id</th>\n",
       "      <th>item_id</th>\n",
       "      <th>cat_id</th>\n",
       "      <th>merchant_id</th>\n",
       "      <th>brand_id</th>\n",
       "      <th>time_stamp</th>\n",
       "      <th>action_type</th>\n",
       "      <th>id</th>\n",
       "      <th>month</th>\n",
       "      <th>date</th>\n",
       "    </tr>\n",
       "  </thead>\n",
       "  <tbody>\n",
       "    <tr>\n",
       "      <th>11625886</th>\n",
       "      <td>48522</td>\n",
       "      <td>126963</td>\n",
       "      <td>490</td>\n",
       "      <td>1000</td>\n",
       "      <td>NaN</td>\n",
       "      <td>1111</td>\n",
       "      <td>2</td>\n",
       "      <td>48522_1000</td>\n",
       "      <td>11</td>\n",
       "      <td>11</td>\n",
       "    </tr>\n",
       "    <tr>\n",
       "      <th>20222755</th>\n",
       "      <td>64064</td>\n",
       "      <td>126963</td>\n",
       "      <td>1074</td>\n",
       "      <td>1000</td>\n",
       "      <td>NaN</td>\n",
       "      <td>1111</td>\n",
       "      <td>2</td>\n",
       "      <td>64064_1000</td>\n",
       "      <td>11</td>\n",
       "      <td>11</td>\n",
       "    </tr>\n",
       "    <tr>\n",
       "      <th>23265613</th>\n",
       "      <td>155507</td>\n",
       "      <td>126963</td>\n",
       "      <td>666</td>\n",
       "      <td>1000</td>\n",
       "      <td>NaN</td>\n",
       "      <td>1111</td>\n",
       "      <td>2</td>\n",
       "      <td>155507_1000</td>\n",
       "      <td>11</td>\n",
       "      <td>11</td>\n",
       "    </tr>\n",
       "    <tr>\n",
       "      <th>28974134</th>\n",
       "      <td>359447</td>\n",
       "      <td>126963</td>\n",
       "      <td>666</td>\n",
       "      <td>1000</td>\n",
       "      <td>NaN</td>\n",
       "      <td>1111</td>\n",
       "      <td>2</td>\n",
       "      <td>359447_1000</td>\n",
       "      <td>11</td>\n",
       "      <td>11</td>\n",
       "    </tr>\n",
       "    <tr>\n",
       "      <th>33075882</th>\n",
       "      <td>341238</td>\n",
       "      <td>126963</td>\n",
       "      <td>1113</td>\n",
       "      <td>1000</td>\n",
       "      <td>NaN</td>\n",
       "      <td>529</td>\n",
       "      <td>2</td>\n",
       "      <td>341238_1000</td>\n",
       "      <td>5</td>\n",
       "      <td>29</td>\n",
       "    </tr>\n",
       "    <tr>\n",
       "      <th>33075885</th>\n",
       "      <td>341238</td>\n",
       "      <td>126963</td>\n",
       "      <td>138</td>\n",
       "      <td>1000</td>\n",
       "      <td>NaN</td>\n",
       "      <td>529</td>\n",
       "      <td>2</td>\n",
       "      <td>341238_1000</td>\n",
       "      <td>5</td>\n",
       "      <td>29</td>\n",
       "    </tr>\n",
       "    <tr>\n",
       "      <th>45997184</th>\n",
       "      <td>391952</td>\n",
       "      <td>126963</td>\n",
       "      <td>1205</td>\n",
       "      <td>1000</td>\n",
       "      <td>NaN</td>\n",
       "      <td>1111</td>\n",
       "      <td>2</td>\n",
       "      <td>391952_1000</td>\n",
       "      <td>11</td>\n",
       "      <td>11</td>\n",
       "    </tr>\n",
       "  </tbody>\n",
       "</table>\n",
       "</div>"
      ],
      "text/plain": [
       "          user_id  item_id  cat_id  merchant_id  brand_id  time_stamp  \\\n",
       "11625886    48522   126963     490         1000       NaN        1111   \n",
       "20222755    64064   126963    1074         1000       NaN        1111   \n",
       "23265613   155507   126963     666         1000       NaN        1111   \n",
       "28974134   359447   126963     666         1000       NaN        1111   \n",
       "33075882   341238   126963    1113         1000       NaN         529   \n",
       "33075885   341238   126963     138         1000       NaN         529   \n",
       "45997184   391952   126963    1205         1000       NaN        1111   \n",
       "\n",
       "          action_type           id  month  date  \n",
       "11625886            2   48522_1000     11    11  \n",
       "20222755            2   64064_1000     11    11  \n",
       "23265613            2  155507_1000     11    11  \n",
       "28974134            2  359447_1000     11    11  \n",
       "33075882            2  341238_1000      5    29  \n",
       "33075885            2  341238_1000      5    29  \n",
       "45997184            2  391952_1000     11    11  "
      ]
     },
     "execution_count": 19,
     "metadata": {},
     "output_type": "execute_result"
    }
   ],
   "source": [
    "user_behaviour[user_behaviour['item_id'] == 126963]"
   ]
  },
  {
   "cell_type": "code",
   "execution_count": 20,
   "metadata": {
    "ExecuteTime": {
     "end_time": "2022-02-07T15:47:17.344249Z",
     "start_time": "2022-02-07T15:47:13.409746Z"
    }
   },
   "outputs": [
    {
     "data": {
      "text/plain": [
       "user_id        0.000000\n",
       "item_id        0.000000\n",
       "cat_id         0.000000\n",
       "merchant_id    0.000000\n",
       "brand_id       0.001657\n",
       "time_stamp     0.000000\n",
       "action_type    0.000000\n",
       "id             0.000000\n",
       "month          0.000000\n",
       "date           0.000000\n",
       "dtype: float64"
      ]
     },
     "execution_count": 20,
     "metadata": {},
     "output_type": "execute_result"
    }
   ],
   "source": [
    "# the missing value proportion of each columns in this table.\n",
    "miss_ub = user_behaviour.isnull().sum()/user_behaviour.shape[0]\n",
    "miss_ub"
   ]
  },
  {
   "cell_type": "markdown",
   "metadata": {},
   "source": [
    "## User information"
   ]
  },
  {
   "cell_type": "code",
   "execution_count": 21,
   "metadata": {
    "ExecuteTime": {
     "end_time": "2022-02-07T15:47:17.505158Z",
     "start_time": "2022-02-07T15:47:17.346657Z"
    }
   },
   "outputs": [
    {
     "data": {
      "text/html": [
       "<div>\n",
       "<style scoped>\n",
       "    .dataframe tbody tr th:only-of-type {\n",
       "        vertical-align: middle;\n",
       "    }\n",
       "\n",
       "    .dataframe tbody tr th {\n",
       "        vertical-align: top;\n",
       "    }\n",
       "\n",
       "    .dataframe thead th {\n",
       "        text-align: right;\n",
       "    }\n",
       "</style>\n",
       "<table border=\"1\" class=\"dataframe\">\n",
       "  <thead>\n",
       "    <tr style=\"text-align: right;\">\n",
       "      <th></th>\n",
       "      <th>user_id</th>\n",
       "      <th>age_range</th>\n",
       "      <th>gender</th>\n",
       "    </tr>\n",
       "  </thead>\n",
       "  <tbody>\n",
       "    <tr>\n",
       "      <th>0</th>\n",
       "      <td>376517</td>\n",
       "      <td>6.0</td>\n",
       "      <td>1.0</td>\n",
       "    </tr>\n",
       "    <tr>\n",
       "      <th>1</th>\n",
       "      <td>234512</td>\n",
       "      <td>5.0</td>\n",
       "      <td>0.0</td>\n",
       "    </tr>\n",
       "    <tr>\n",
       "      <th>2</th>\n",
       "      <td>344532</td>\n",
       "      <td>5.0</td>\n",
       "      <td>0.0</td>\n",
       "    </tr>\n",
       "    <tr>\n",
       "      <th>3</th>\n",
       "      <td>186135</td>\n",
       "      <td>5.0</td>\n",
       "      <td>0.0</td>\n",
       "    </tr>\n",
       "    <tr>\n",
       "      <th>4</th>\n",
       "      <td>30230</td>\n",
       "      <td>5.0</td>\n",
       "      <td>0.0</td>\n",
       "    </tr>\n",
       "  </tbody>\n",
       "</table>\n",
       "</div>"
      ],
      "text/plain": [
       "   user_id  age_range  gender\n",
       "0   376517        6.0     1.0\n",
       "1   234512        5.0     0.0\n",
       "2   344532        5.0     0.0\n",
       "3   186135        5.0     0.0\n",
       "4    30230        5.0     0.0"
      ]
     },
     "execution_count": 21,
     "metadata": {},
     "output_type": "execute_result"
    }
   ],
   "source": [
    "user = pd.read_csv('./data/user_info_format1.csv')\n",
    "user.head()"
   ]
  },
  {
   "cell_type": "code",
   "execution_count": 22,
   "metadata": {
    "ExecuteTime": {
     "end_time": "2022-02-07T15:47:17.521379Z",
     "start_time": "2022-02-07T15:47:17.508075Z"
    }
   },
   "outputs": [
    {
     "data": {
      "text/plain": [
       "0    376517\n",
       "1    234512\n",
       "3    186135\n",
       "Name: user_id, dtype: int64"
      ]
     },
     "execution_count": 22,
     "metadata": {},
     "output_type": "execute_result"
    }
   ],
   "source": [
    "user.loc[[0,1,3],'user_id']"
   ]
  },
  {
   "cell_type": "code",
   "execution_count": 23,
   "metadata": {
    "ExecuteTime": {
     "end_time": "2022-02-07T15:47:17.544854Z",
     "start_time": "2022-02-07T15:47:17.535564Z"
    }
   },
   "outputs": [
    {
     "data": {
      "text/plain": [
       "user_id         0\n",
       "age_range    2217\n",
       "gender       6436\n",
       "dtype: int64"
      ]
     },
     "execution_count": 23,
     "metadata": {},
     "output_type": "execute_result"
    }
   ],
   "source": [
    "user.isnull().sum()"
   ]
  },
  {
   "cell_type": "code",
   "execution_count": 24,
   "metadata": {
    "ExecuteTime": {
     "end_time": "2022-02-07T15:47:17.554973Z",
     "start_time": "2022-02-07T15:47:17.547859Z"
    }
   },
   "outputs": [
    {
     "data": {
      "text/plain": [
       "(424170, 3)"
      ]
     },
     "execution_count": 24,
     "metadata": {},
     "output_type": "execute_result"
    }
   ],
   "source": [
    "user.shape"
   ]
  },
  {
   "cell_type": "code",
   "execution_count": 25,
   "metadata": {
    "ExecuteTime": {
     "end_time": "2022-02-07T15:47:17.592802Z",
     "start_time": "2022-02-07T15:47:17.557730Z"
    }
   },
   "outputs": [
    {
     "name": "stdout",
     "output_type": "stream",
     "text": [
      "<class 'pandas.core.frame.DataFrame'>\n",
      "RangeIndex: 424170 entries, 0 to 424169\n",
      "Data columns (total 3 columns):\n",
      " #   Column     Non-Null Count   Dtype  \n",
      "---  ------     --------------   -----  \n",
      " 0   user_id    424170 non-null  int64  \n",
      " 1   age_range  421953 non-null  float64\n",
      " 2   gender     417734 non-null  float64\n",
      "dtypes: float64(2), int64(1)\n",
      "memory usage: 9.7 MB\n"
     ]
    }
   ],
   "source": [
    "user.info()"
   ]
  },
  {
   "cell_type": "markdown",
   "metadata": {},
   "source": [
    "## User-Merchant Information"
   ]
  },
  {
   "cell_type": "code",
   "execution_count": 26,
   "metadata": {
    "ExecuteTime": {
     "end_time": "2022-02-07T15:47:28.593003Z",
     "start_time": "2022-02-07T15:47:17.595232Z"
    }
   },
   "outputs": [
    {
     "data": {
      "text/html": [
       "<div>\n",
       "<style scoped>\n",
       "    .dataframe tbody tr th:only-of-type {\n",
       "        vertical-align: middle;\n",
       "    }\n",
       "\n",
       "    .dataframe tbody tr th {\n",
       "        vertical-align: top;\n",
       "    }\n",
       "\n",
       "    .dataframe thead th {\n",
       "        text-align: right;\n",
       "    }\n",
       "</style>\n",
       "<table border=\"1\" class=\"dataframe\">\n",
       "  <thead>\n",
       "    <tr style=\"text-align: right;\">\n",
       "      <th></th>\n",
       "      <th>user_id</th>\n",
       "      <th>age_range</th>\n",
       "      <th>gender</th>\n",
       "      <th>merchant_id</th>\n",
       "      <th>label</th>\n",
       "      <th>activity_log</th>\n",
       "    </tr>\n",
       "  </thead>\n",
       "  <tbody>\n",
       "    <tr>\n",
       "      <th>0</th>\n",
       "      <td>34176</td>\n",
       "      <td>6.0</td>\n",
       "      <td>0.0</td>\n",
       "      <td>944</td>\n",
       "      <td>-1</td>\n",
       "      <td>408895:1505:7370:1107:0</td>\n",
       "    </tr>\n",
       "    <tr>\n",
       "      <th>1</th>\n",
       "      <td>34176</td>\n",
       "      <td>6.0</td>\n",
       "      <td>0.0</td>\n",
       "      <td>412</td>\n",
       "      <td>-1</td>\n",
       "      <td>17235:1604:4396:0818:0#954723:1604:4396:0818:0...</td>\n",
       "    </tr>\n",
       "    <tr>\n",
       "      <th>2</th>\n",
       "      <td>34176</td>\n",
       "      <td>6.0</td>\n",
       "      <td>0.0</td>\n",
       "      <td>1945</td>\n",
       "      <td>-1</td>\n",
       "      <td>231901:662:2758:0818:0#231901:662:2758:0818:0#...</td>\n",
       "    </tr>\n",
       "    <tr>\n",
       "      <th>3</th>\n",
       "      <td>34176</td>\n",
       "      <td>6.0</td>\n",
       "      <td>0.0</td>\n",
       "      <td>4752</td>\n",
       "      <td>-1</td>\n",
       "      <td>174142:821:6938:1027:0</td>\n",
       "    </tr>\n",
       "    <tr>\n",
       "      <th>4</th>\n",
       "      <td>34176</td>\n",
       "      <td>6.0</td>\n",
       "      <td>0.0</td>\n",
       "      <td>643</td>\n",
       "      <td>-1</td>\n",
       "      <td>716371:1505:968:1024:3</td>\n",
       "    </tr>\n",
       "  </tbody>\n",
       "</table>\n",
       "</div>"
      ],
      "text/plain": [
       "   user_id  age_range  gender  merchant_id  label  \\\n",
       "0    34176        6.0     0.0          944     -1   \n",
       "1    34176        6.0     0.0          412     -1   \n",
       "2    34176        6.0     0.0         1945     -1   \n",
       "3    34176        6.0     0.0         4752     -1   \n",
       "4    34176        6.0     0.0          643     -1   \n",
       "\n",
       "                                        activity_log  \n",
       "0                            408895:1505:7370:1107:0  \n",
       "1  17235:1604:4396:0818:0#954723:1604:4396:0818:0...  \n",
       "2  231901:662:2758:0818:0#231901:662:2758:0818:0#...  \n",
       "3                             174142:821:6938:1027:0  \n",
       "4                             716371:1505:968:1024:3  "
      ]
     },
     "execution_count": 26,
     "metadata": {},
     "output_type": "execute_result"
    }
   ],
   "source": [
    "all_user = pd.read_csv('./data/train_format2.csv')\n",
    "# user = all_user[train_user['label'] != -1]\n",
    "all_user.head()\n",
    "# ['user_id', 'age_range', 'gender', 'merchant_id', 'label','activity_log']"
   ]
  },
  {
   "cell_type": "code",
   "execution_count": 27,
   "metadata": {
    "ExecuteTime": {
     "end_time": "2022-02-07T15:47:28.598441Z",
     "start_time": "2022-02-07T15:47:28.594871Z"
    }
   },
   "outputs": [
    {
     "data": {
      "text/plain": [
       "(7030723, 6)"
      ]
     },
     "execution_count": 27,
     "metadata": {},
     "output_type": "execute_result"
    }
   ],
   "source": [
    "all_user.shape"
   ]
  },
  {
   "cell_type": "code",
   "execution_count": 28,
   "metadata": {
    "ExecuteTime": {
     "end_time": "2022-02-07T15:47:28.614002Z",
     "start_time": "2022-02-07T15:47:28.600324Z"
    }
   },
   "outputs": [
    {
     "name": "stdout",
     "output_type": "stream",
     "text": [
      "<class 'pandas.core.frame.DataFrame'>\n",
      "RangeIndex: 7030723 entries, 0 to 7030722\n",
      "Data columns (total 6 columns):\n",
      " #   Column        Dtype  \n",
      "---  ------        -----  \n",
      " 0   user_id       int64  \n",
      " 1   age_range     float64\n",
      " 2   gender        float64\n",
      " 3   merchant_id   int64  \n",
      " 4   label         int64  \n",
      " 5   activity_log  object \n",
      "dtypes: float64(2), int64(3), object(1)\n",
      "memory usage: 321.8+ MB\n"
     ]
    }
   ],
   "source": [
    "all_user.info()"
   ]
  },
  {
   "cell_type": "code",
   "execution_count": 29,
   "metadata": {
    "ExecuteTime": {
     "end_time": "2022-02-07T15:47:32.915631Z",
     "start_time": "2022-02-07T15:47:28.617182Z"
    }
   },
   "outputs": [],
   "source": [
    "all_user['log_num'] = all_user['activity_log'].apply(lambda x:str(x).count('#'))\n"
   ]
  },
  {
   "cell_type": "code",
   "execution_count": 30,
   "metadata": {
    "ExecuteTime": {
     "end_time": "2022-02-07T15:49:53.589438Z",
     "start_time": "2022-02-07T15:47:32.917645Z"
    },
    "scrolled": true
   },
   "outputs": [
    {
     "data": {
      "text/html": [
       "<div>\n",
       "<style scoped>\n",
       "    .dataframe tbody tr th:only-of-type {\n",
       "        vertical-align: middle;\n",
       "    }\n",
       "\n",
       "    .dataframe tbody tr th {\n",
       "        vertical-align: top;\n",
       "    }\n",
       "\n",
       "    .dataframe thead th {\n",
       "        text-align: right;\n",
       "    }\n",
       "</style>\n",
       "<table border=\"1\" class=\"dataframe\">\n",
       "  <thead>\n",
       "    <tr style=\"text-align: right;\">\n",
       "      <th></th>\n",
       "      <th>user_id</th>\n",
       "      <th>age_range</th>\n",
       "      <th>gender</th>\n",
       "      <th>merchant_id</th>\n",
       "      <th>label</th>\n",
       "      <th>activity_log</th>\n",
       "      <th>log_num</th>\n",
       "      <th>num</th>\n",
       "    </tr>\n",
       "  </thead>\n",
       "  <tbody>\n",
       "    <tr>\n",
       "      <th>0</th>\n",
       "      <td>34176</td>\n",
       "      <td>6.0</td>\n",
       "      <td>0.0</td>\n",
       "      <td>944</td>\n",
       "      <td>-1</td>\n",
       "      <td>408895:1505:7370:1107:0</td>\n",
       "      <td>0</td>\n",
       "      <td>1</td>\n",
       "    </tr>\n",
       "    <tr>\n",
       "      <th>1</th>\n",
       "      <td>34176</td>\n",
       "      <td>6.0</td>\n",
       "      <td>0.0</td>\n",
       "      <td>412</td>\n",
       "      <td>-1</td>\n",
       "      <td>17235:1604:4396:0818:0#954723:1604:4396:0818:0...</td>\n",
       "      <td>7</td>\n",
       "      <td>8</td>\n",
       "    </tr>\n",
       "    <tr>\n",
       "      <th>2</th>\n",
       "      <td>34176</td>\n",
       "      <td>6.0</td>\n",
       "      <td>0.0</td>\n",
       "      <td>1945</td>\n",
       "      <td>-1</td>\n",
       "      <td>231901:662:2758:0818:0#231901:662:2758:0818:0#...</td>\n",
       "      <td>6</td>\n",
       "      <td>7</td>\n",
       "    </tr>\n",
       "    <tr>\n",
       "      <th>3</th>\n",
       "      <td>34176</td>\n",
       "      <td>6.0</td>\n",
       "      <td>0.0</td>\n",
       "      <td>4752</td>\n",
       "      <td>-1</td>\n",
       "      <td>174142:821:6938:1027:0</td>\n",
       "      <td>0</td>\n",
       "      <td>1</td>\n",
       "    </tr>\n",
       "    <tr>\n",
       "      <th>4</th>\n",
       "      <td>34176</td>\n",
       "      <td>6.0</td>\n",
       "      <td>0.0</td>\n",
       "      <td>643</td>\n",
       "      <td>-1</td>\n",
       "      <td>716371:1505:968:1024:3</td>\n",
       "      <td>0</td>\n",
       "      <td>1</td>\n",
       "    </tr>\n",
       "    <tr>\n",
       "      <th>...</th>\n",
       "      <td>...</td>\n",
       "      <td>...</td>\n",
       "      <td>...</td>\n",
       "      <td>...</td>\n",
       "      <td>...</td>\n",
       "      <td>...</td>\n",
       "      <td>...</td>\n",
       "      <td>...</td>\n",
       "    </tr>\n",
       "    <tr>\n",
       "      <th>7030718</th>\n",
       "      <td>229247</td>\n",
       "      <td>4.0</td>\n",
       "      <td>2.0</td>\n",
       "      <td>2000</td>\n",
       "      <td>-1</td>\n",
       "      <td>610483:737:3894:0516:2#610483:737:3894:0524:0</td>\n",
       "      <td>1</td>\n",
       "      <td>2</td>\n",
       "    </tr>\n",
       "    <tr>\n",
       "      <th>7030719</th>\n",
       "      <td>229247</td>\n",
       "      <td>4.0</td>\n",
       "      <td>2.0</td>\n",
       "      <td>579</td>\n",
       "      <td>-1</td>\n",
       "      <td>179514:420:3610:1014:0#1007071:420:3610:1014:0...</td>\n",
       "      <td>2</td>\n",
       "      <td>3</td>\n",
       "    </tr>\n",
       "    <tr>\n",
       "      <th>7030720</th>\n",
       "      <td>229247</td>\n",
       "      <td>4.0</td>\n",
       "      <td>2.0</td>\n",
       "      <td>1860</td>\n",
       "      <td>-1</td>\n",
       "      <td>980351:1130:918:1016:3#153613:1130:918:1016:0#...</td>\n",
       "      <td>2</td>\n",
       "      <td>3</td>\n",
       "    </tr>\n",
       "    <tr>\n",
       "      <th>7030721</th>\n",
       "      <td>229247</td>\n",
       "      <td>4.0</td>\n",
       "      <td>2.0</td>\n",
       "      <td>4140</td>\n",
       "      <td>0</td>\n",
       "      <td>308321:737:5697:1111:0#308321:737:5697:1111:0#...</td>\n",
       "      <td>23</td>\n",
       "      <td>24</td>\n",
       "    </tr>\n",
       "    <tr>\n",
       "      <th>7030722</th>\n",
       "      <td>229247</td>\n",
       "      <td>4.0</td>\n",
       "      <td>2.0</td>\n",
       "      <td>3828</td>\n",
       "      <td>-1</td>\n",
       "      <td>466063:1553:1446:1111:0#449724:1553:1446:1111:...</td>\n",
       "      <td>3</td>\n",
       "      <td>4</td>\n",
       "    </tr>\n",
       "  </tbody>\n",
       "</table>\n",
       "<p>7030723 rows × 8 columns</p>\n",
       "</div>"
      ],
      "text/plain": [
       "         user_id  age_range  gender  merchant_id  label  \\\n",
       "0          34176        6.0     0.0          944     -1   \n",
       "1          34176        6.0     0.0          412     -1   \n",
       "2          34176        6.0     0.0         1945     -1   \n",
       "3          34176        6.0     0.0         4752     -1   \n",
       "4          34176        6.0     0.0          643     -1   \n",
       "...          ...        ...     ...          ...    ...   \n",
       "7030718   229247        4.0     2.0         2000     -1   \n",
       "7030719   229247        4.0     2.0          579     -1   \n",
       "7030720   229247        4.0     2.0         1860     -1   \n",
       "7030721   229247        4.0     2.0         4140      0   \n",
       "7030722   229247        4.0     2.0         3828     -1   \n",
       "\n",
       "                                              activity_log  log_num  num  \n",
       "0                                  408895:1505:7370:1107:0        0    1  \n",
       "1        17235:1604:4396:0818:0#954723:1604:4396:0818:0...        7    8  \n",
       "2        231901:662:2758:0818:0#231901:662:2758:0818:0#...        6    7  \n",
       "3                                   174142:821:6938:1027:0        0    1  \n",
       "4                                   716371:1505:968:1024:3        0    1  \n",
       "...                                                    ...      ...  ...  \n",
       "7030718      610483:737:3894:0516:2#610483:737:3894:0524:0        1    2  \n",
       "7030719  179514:420:3610:1014:0#1007071:420:3610:1014:0...        2    3  \n",
       "7030720  980351:1130:918:1016:3#153613:1130:918:1016:0#...        2    3  \n",
       "7030721  308321:737:5697:1111:0#308321:737:5697:1111:0#...       23   24  \n",
       "7030722  466063:1553:1446:1111:0#449724:1553:1446:1111:...        3    4  \n",
       "\n",
       "[7030723 rows x 8 columns]"
      ]
     },
     "execution_count": 30,
     "metadata": {},
     "output_type": "execute_result"
    }
   ],
   "source": [
    "all_user['num'] = all_user.apply(lambda x: x.log_num if ((x.log_num ==0) & (str(x.activity_log).count(':')==0)) else x.log_num+1, axis = 1)\n",
    "all_user"
   ]
  },
  {
   "cell_type": "code",
   "execution_count": 31,
   "metadata": {
    "ExecuteTime": {
     "end_time": "2022-02-07T15:50:58.680914Z",
     "start_time": "2022-02-07T15:49:53.591825Z"
    }
   },
   "outputs": [],
   "source": [
    "all_user.to_csv('user1.csv')"
   ]
  },
  {
   "cell_type": "code",
   "execution_count": 32,
   "metadata": {
    "ExecuteTime": {
     "end_time": "2022-02-07T15:51:03.145796Z",
     "start_time": "2022-02-07T15:50:58.683020Z"
    }
   },
   "outputs": [
    {
     "data": {
      "text/plain": [
       "{0, 1}"
      ]
     },
     "execution_count": 32,
     "metadata": {},
     "output_type": "execute_result"
    }
   ],
   "source": [
    "m = all_user.groupby(['user_id','merchant_id']).activity_log.count()\n",
    "set(m.values)"
   ]
  },
  {
   "cell_type": "code",
   "execution_count": 33,
   "metadata": {
    "ExecuteTime": {
     "end_time": "2022-02-07T15:51:03.650378Z",
     "start_time": "2022-02-07T15:51:03.148109Z"
    }
   },
   "outputs": [
    {
     "data": {
      "text/plain": [
       "user_id         0.000000\n",
       "age_range       0.002756\n",
       "gender          0.008777\n",
       "merchant_id     0.000000\n",
       "label           0.000000\n",
       "activity_log    0.000423\n",
       "log_num         0.000000\n",
       "num             0.000000\n",
       "dtype: float64"
      ]
     },
     "execution_count": 33,
     "metadata": {},
     "output_type": "execute_result"
    }
   ],
   "source": [
    "# the missing value proportion of each columns in this table.\n",
    "all_user.isnull().sum()/all_user.shape[0]"
   ]
  },
  {
   "cell_type": "markdown",
   "metadata": {},
   "source": [
    "## Data Merge"
   ]
  },
  {
   "cell_type": "code",
   "execution_count": 34,
   "metadata": {
    "ExecuteTime": {
     "end_time": "2022-02-07T15:51:42.803815Z",
     "start_time": "2022-02-07T15:51:03.652534Z"
    }
   },
   "outputs": [
    {
     "data": {
      "text/html": [
       "<div>\n",
       "<style scoped>\n",
       "    .dataframe tbody tr th:only-of-type {\n",
       "        vertical-align: middle;\n",
       "    }\n",
       "\n",
       "    .dataframe tbody tr th {\n",
       "        vertical-align: top;\n",
       "    }\n",
       "\n",
       "    .dataframe thead th {\n",
       "        text-align: right;\n",
       "    }\n",
       "</style>\n",
       "<table border=\"1\" class=\"dataframe\">\n",
       "  <thead>\n",
       "    <tr style=\"text-align: right;\">\n",
       "      <th></th>\n",
       "      <th>user_id</th>\n",
       "      <th>item_id</th>\n",
       "      <th>cat_id</th>\n",
       "      <th>merchant_id</th>\n",
       "      <th>brand_id</th>\n",
       "      <th>time_stamp</th>\n",
       "      <th>action_type</th>\n",
       "      <th>id</th>\n",
       "      <th>month</th>\n",
       "      <th>date</th>\n",
       "      <th>age_range</th>\n",
       "      <th>gender</th>\n",
       "    </tr>\n",
       "  </thead>\n",
       "  <tbody>\n",
       "    <tr>\n",
       "      <th>0</th>\n",
       "      <td>328862</td>\n",
       "      <td>323294</td>\n",
       "      <td>833</td>\n",
       "      <td>2882</td>\n",
       "      <td>2661.0</td>\n",
       "      <td>829</td>\n",
       "      <td>0</td>\n",
       "      <td>328862_2882</td>\n",
       "      <td>8</td>\n",
       "      <td>29</td>\n",
       "      <td>6.0</td>\n",
       "      <td>1.0</td>\n",
       "    </tr>\n",
       "    <tr>\n",
       "      <th>1</th>\n",
       "      <td>328862</td>\n",
       "      <td>844400</td>\n",
       "      <td>1271</td>\n",
       "      <td>2882</td>\n",
       "      <td>2661.0</td>\n",
       "      <td>829</td>\n",
       "      <td>0</td>\n",
       "      <td>328862_2882</td>\n",
       "      <td>8</td>\n",
       "      <td>29</td>\n",
       "      <td>6.0</td>\n",
       "      <td>1.0</td>\n",
       "    </tr>\n",
       "    <tr>\n",
       "      <th>2</th>\n",
       "      <td>328862</td>\n",
       "      <td>575153</td>\n",
       "      <td>1271</td>\n",
       "      <td>2882</td>\n",
       "      <td>2661.0</td>\n",
       "      <td>829</td>\n",
       "      <td>0</td>\n",
       "      <td>328862_2882</td>\n",
       "      <td>8</td>\n",
       "      <td>29</td>\n",
       "      <td>6.0</td>\n",
       "      <td>1.0</td>\n",
       "    </tr>\n",
       "    <tr>\n",
       "      <th>3</th>\n",
       "      <td>328862</td>\n",
       "      <td>996875</td>\n",
       "      <td>1271</td>\n",
       "      <td>2882</td>\n",
       "      <td>2661.0</td>\n",
       "      <td>829</td>\n",
       "      <td>0</td>\n",
       "      <td>328862_2882</td>\n",
       "      <td>8</td>\n",
       "      <td>29</td>\n",
       "      <td>6.0</td>\n",
       "      <td>1.0</td>\n",
       "    </tr>\n",
       "    <tr>\n",
       "      <th>4</th>\n",
       "      <td>328862</td>\n",
       "      <td>1086186</td>\n",
       "      <td>1271</td>\n",
       "      <td>1253</td>\n",
       "      <td>1049.0</td>\n",
       "      <td>829</td>\n",
       "      <td>0</td>\n",
       "      <td>328862_1253</td>\n",
       "      <td>8</td>\n",
       "      <td>29</td>\n",
       "      <td>6.0</td>\n",
       "      <td>1.0</td>\n",
       "    </tr>\n",
       "    <tr>\n",
       "      <th>...</th>\n",
       "      <td>...</td>\n",
       "      <td>...</td>\n",
       "      <td>...</td>\n",
       "      <td>...</td>\n",
       "      <td>...</td>\n",
       "      <td>...</td>\n",
       "      <td>...</td>\n",
       "      <td>...</td>\n",
       "      <td>...</td>\n",
       "      <td>...</td>\n",
       "      <td>...</td>\n",
       "      <td>...</td>\n",
       "    </tr>\n",
       "    <tr>\n",
       "      <th>54925325</th>\n",
       "      <td>208016</td>\n",
       "      <td>107662</td>\n",
       "      <td>898</td>\n",
       "      <td>1346</td>\n",
       "      <td>7995.0</td>\n",
       "      <td>1110</td>\n",
       "      <td>0</td>\n",
       "      <td>208016_1346</td>\n",
       "      <td>11</td>\n",
       "      <td>10</td>\n",
       "      <td>NaN</td>\n",
       "      <td>NaN</td>\n",
       "    </tr>\n",
       "    <tr>\n",
       "      <th>54925326</th>\n",
       "      <td>208016</td>\n",
       "      <td>1058313</td>\n",
       "      <td>898</td>\n",
       "      <td>1346</td>\n",
       "      <td>7995.0</td>\n",
       "      <td>1110</td>\n",
       "      <td>0</td>\n",
       "      <td>208016_1346</td>\n",
       "      <td>11</td>\n",
       "      <td>10</td>\n",
       "      <td>NaN</td>\n",
       "      <td>NaN</td>\n",
       "    </tr>\n",
       "    <tr>\n",
       "      <th>54925327</th>\n",
       "      <td>208016</td>\n",
       "      <td>449814</td>\n",
       "      <td>898</td>\n",
       "      <td>983</td>\n",
       "      <td>7995.0</td>\n",
       "      <td>1110</td>\n",
       "      <td>0</td>\n",
       "      <td>208016_983</td>\n",
       "      <td>11</td>\n",
       "      <td>10</td>\n",
       "      <td>NaN</td>\n",
       "      <td>NaN</td>\n",
       "    </tr>\n",
       "    <tr>\n",
       "      <th>54925328</th>\n",
       "      <td>208016</td>\n",
       "      <td>634856</td>\n",
       "      <td>898</td>\n",
       "      <td>1346</td>\n",
       "      <td>7995.0</td>\n",
       "      <td>1110</td>\n",
       "      <td>0</td>\n",
       "      <td>208016_1346</td>\n",
       "      <td>11</td>\n",
       "      <td>10</td>\n",
       "      <td>NaN</td>\n",
       "      <td>NaN</td>\n",
       "    </tr>\n",
       "    <tr>\n",
       "      <th>54925329</th>\n",
       "      <td>208016</td>\n",
       "      <td>272094</td>\n",
       "      <td>898</td>\n",
       "      <td>1346</td>\n",
       "      <td>7995.0</td>\n",
       "      <td>1111</td>\n",
       "      <td>0</td>\n",
       "      <td>208016_1346</td>\n",
       "      <td>11</td>\n",
       "      <td>11</td>\n",
       "      <td>NaN</td>\n",
       "      <td>NaN</td>\n",
       "    </tr>\n",
       "  </tbody>\n",
       "</table>\n",
       "<p>54925330 rows × 12 columns</p>\n",
       "</div>"
      ],
      "text/plain": [
       "          user_id  item_id  cat_id  merchant_id  brand_id  time_stamp  \\\n",
       "0          328862   323294     833         2882    2661.0         829   \n",
       "1          328862   844400    1271         2882    2661.0         829   \n",
       "2          328862   575153    1271         2882    2661.0         829   \n",
       "3          328862   996875    1271         2882    2661.0         829   \n",
       "4          328862  1086186    1271         1253    1049.0         829   \n",
       "...           ...      ...     ...          ...       ...         ...   \n",
       "54925325   208016   107662     898         1346    7995.0        1110   \n",
       "54925326   208016  1058313     898         1346    7995.0        1110   \n",
       "54925327   208016   449814     898          983    7995.0        1110   \n",
       "54925328   208016   634856     898         1346    7995.0        1110   \n",
       "54925329   208016   272094     898         1346    7995.0        1111   \n",
       "\n",
       "          action_type           id  month  date  age_range  gender  \n",
       "0                   0  328862_2882      8    29        6.0     1.0  \n",
       "1                   0  328862_2882      8    29        6.0     1.0  \n",
       "2                   0  328862_2882      8    29        6.0     1.0  \n",
       "3                   0  328862_2882      8    29        6.0     1.0  \n",
       "4                   0  328862_1253      8    29        6.0     1.0  \n",
       "...               ...          ...    ...   ...        ...     ...  \n",
       "54925325            0  208016_1346     11    10        NaN     NaN  \n",
       "54925326            0  208016_1346     11    10        NaN     NaN  \n",
       "54925327            0   208016_983     11    10        NaN     NaN  \n",
       "54925328            0  208016_1346     11    10        NaN     NaN  \n",
       "54925329            0  208016_1346     11    11        NaN     NaN  \n",
       "\n",
       "[54925330 rows x 12 columns]"
      ]
     },
     "execution_count": 34,
     "metadata": {},
     "output_type": "execute_result"
    }
   ],
   "source": [
    "df = pd.merge(user_behaviour,user,on = 'user_id',how = 'left')\n",
    "df"
   ]
  },
  {
   "cell_type": "code",
   "execution_count": 35,
   "metadata": {
    "ExecuteTime": {
     "end_time": "2022-02-07T15:51:47.574012Z",
     "start_time": "2022-02-07T15:51:42.829529Z"
    }
   },
   "outputs": [
    {
     "data": {
      "text/plain": [
       "user_id             0\n",
       "item_id             0\n",
       "cat_id              0\n",
       "merchant_id         0\n",
       "brand_id        91015\n",
       "time_stamp          0\n",
       "action_type         0\n",
       "id                  0\n",
       "month               0\n",
       "date                0\n",
       "age_range      128223\n",
       "gender         421495\n",
       "dtype: int64"
      ]
     },
     "execution_count": 35,
     "metadata": {},
     "output_type": "execute_result"
    }
   ],
   "source": [
    "df.isnull().sum()"
   ]
  },
  {
   "cell_type": "code",
   "execution_count": 36,
   "metadata": {
    "ExecuteTime": {
     "end_time": "2022-02-07T16:13:08.164281Z",
     "start_time": "2022-02-07T15:51:47.577493Z"
    }
   },
   "outputs": [],
   "source": [
    "df.to_csv('merge_data.csv') "
   ]
  },
  {
   "cell_type": "code",
   "execution_count": null,
   "metadata": {},
   "outputs": [],
   "source": []
  }
 ],
 "metadata": {
  "kernelspec": {
   "display_name": "Python 3",
   "language": "python",
   "name": "python3"
  },
  "language_info": {
   "codemirror_mode": {
    "name": "ipython",
    "version": 3
   },
   "file_extension": ".py",
   "mimetype": "text/x-python",
   "name": "python",
   "nbconvert_exporter": "python",
   "pygments_lexer": "ipython3",
   "version": "3.8.8"
  }
 },
 "nbformat": 4,
 "nbformat_minor": 4
}
